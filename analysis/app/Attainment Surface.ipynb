{
 "cells": [
  {
   "cell_type": "code",
   "execution_count": 1,
   "metadata": {},
   "outputs": [],
   "source": [
    "import numpy as np\n",
    "import pandas as pd\n",
    "import matplotlib.pyplot as plt"
   ]
  },
  {
   "cell_type": "code",
   "execution_count": 2,
   "metadata": {},
   "outputs": [
    {
     "data": {
      "text/plain": [
       "array([[0.38, 0.56],\n",
       "       [0.7 , 0.2 ],\n",
       "       [0.3 , 0.6 ],\n",
       "       [0.9 , 0.1 ],\n",
       "       [0.22, 0.7 ],\n",
       "       [0.5 , 0.5 ],\n",
       "       [0.99, 0.06],\n",
       "       [0.1 , 0.9 ],\n",
       "       [0.42, 0.55],\n",
       "       [0.15, 0.88],\n",
       "       [0.6 , 0.4 ]])"
      ]
     },
     "execution_count": 2,
     "metadata": {},
     "output_type": "execute_result"
    }
   ],
   "source": [
    "data = np.array([\n",
    "    [0.1, 0.9],\n",
    "    [0.15, 0.88],\n",
    "    [0.22, 0.7],\n",
    "    [0.3, 0.6],\n",
    "    [0.38, 0.56],\n",
    "    [0.42, 0.55],\n",
    "    [0.5, 0.5],\n",
    "    [0.6, 0.4],\n",
    "    [0.7, 0.2],\n",
    "    [0.9, 0.1],\n",
    "    [0.99, 0.06],\n",
    "])\n",
    "np.random.shuffle(data)\n",
    "data"
   ]
  },
  {
   "cell_type": "code",
   "execution_count": 3,
   "metadata": {},
   "outputs": [
    {
     "data": {
      "text/html": [
       "<div>\n",
       "<style scoped>\n",
       "    .dataframe tbody tr th:only-of-type {\n",
       "        vertical-align: middle;\n",
       "    }\n",
       "\n",
       "    .dataframe tbody tr th {\n",
       "        vertical-align: top;\n",
       "    }\n",
       "\n",
       "    .dataframe thead th {\n",
       "        text-align: right;\n",
       "    }\n",
       "</style>\n",
       "<table border=\"1\" class=\"dataframe\">\n",
       "  <thead>\n",
       "    <tr style=\"text-align: right;\">\n",
       "      <th></th>\n",
       "      <th>x</th>\n",
       "      <th>y</th>\n",
       "    </tr>\n",
       "  </thead>\n",
       "  <tbody>\n",
       "    <tr>\n",
       "      <th>7</th>\n",
       "      <td>0.10</td>\n",
       "      <td>0.90</td>\n",
       "    </tr>\n",
       "    <tr>\n",
       "      <th>9</th>\n",
       "      <td>0.15</td>\n",
       "      <td>0.88</td>\n",
       "    </tr>\n",
       "    <tr>\n",
       "      <th>4</th>\n",
       "      <td>0.22</td>\n",
       "      <td>0.70</td>\n",
       "    </tr>\n",
       "    <tr>\n",
       "      <th>2</th>\n",
       "      <td>0.30</td>\n",
       "      <td>0.60</td>\n",
       "    </tr>\n",
       "    <tr>\n",
       "      <th>0</th>\n",
       "      <td>0.38</td>\n",
       "      <td>0.56</td>\n",
       "    </tr>\n",
       "    <tr>\n",
       "      <th>8</th>\n",
       "      <td>0.42</td>\n",
       "      <td>0.55</td>\n",
       "    </tr>\n",
       "    <tr>\n",
       "      <th>5</th>\n",
       "      <td>0.50</td>\n",
       "      <td>0.50</td>\n",
       "    </tr>\n",
       "    <tr>\n",
       "      <th>10</th>\n",
       "      <td>0.60</td>\n",
       "      <td>0.40</td>\n",
       "    </tr>\n",
       "    <tr>\n",
       "      <th>1</th>\n",
       "      <td>0.70</td>\n",
       "      <td>0.20</td>\n",
       "    </tr>\n",
       "    <tr>\n",
       "      <th>3</th>\n",
       "      <td>0.90</td>\n",
       "      <td>0.10</td>\n",
       "    </tr>\n",
       "    <tr>\n",
       "      <th>6</th>\n",
       "      <td>0.99</td>\n",
       "      <td>0.06</td>\n",
       "    </tr>\n",
       "  </tbody>\n",
       "</table>\n",
       "</div>"
      ],
      "text/plain": [
       "       x     y\n",
       "7   0.10  0.90\n",
       "9   0.15  0.88\n",
       "4   0.22  0.70\n",
       "2   0.30  0.60\n",
       "0   0.38  0.56\n",
       "8   0.42  0.55\n",
       "5   0.50  0.50\n",
       "10  0.60  0.40\n",
       "1   0.70  0.20\n",
       "3   0.90  0.10\n",
       "6   0.99  0.06"
      ]
     },
     "execution_count": 3,
     "metadata": {},
     "output_type": "execute_result"
    }
   ],
   "source": [
    "df = pd.DataFrame(data, columns=['x', 'y']).sort_values(by='x')\n",
    "df"
   ]
  },
  {
   "cell_type": "code",
   "execution_count": 4,
   "metadata": {},
   "outputs": [
    {
     "data": {
      "text/plain": [
       "array([[0.1 , 0.9 ],\n",
       "       [0.15, 0.88],\n",
       "       [0.22, 0.7 ],\n",
       "       [0.3 , 0.6 ],\n",
       "       [0.38, 0.56],\n",
       "       [0.42, 0.55],\n",
       "       [0.5 , 0.5 ],\n",
       "       [0.6 , 0.4 ],\n",
       "       [0.7 , 0.2 ],\n",
       "       [0.9 , 0.1 ],\n",
       "       [0.99, 0.06]])"
      ]
     },
     "execution_count": 4,
     "metadata": {},
     "output_type": "execute_result"
    }
   ],
   "source": [
    "data_sorted = data[data[:,0].argsort()]\n",
    "data_sorted"
   ]
  },
  {
   "cell_type": "code",
   "execution_count": 5,
   "metadata": {},
   "outputs": [
    {
     "data": {
      "text/plain": [
       "[<matplotlib.lines.Line2D at 0x29a554755e0>]"
      ]
     },
     "execution_count": 5,
     "metadata": {},
     "output_type": "execute_result"
    },
    {
     "data": {
      "image/png": "[encoded data removed]",
      "text/plain": [
       "<Figure size 432x288 with 1 Axes>"
      ]
     },
     "metadata": {
      "needs_background": "light"
     },
     "output_type": "display_data"
    }
   ],
   "source": [
    "plt.plot([0.1, 0.2, 0.2, 0.3, 0.3, 0.4], [0.5, 0.5, 0.4, 0.4, 0.3, 0.3])"
   ]
  },
  {
   "cell_type": "code",
   "execution_count": 6,
   "metadata": {},
   "outputs": [
    {
     "data": {
      "text/plain": [
       "<matplotlib.collections.PathCollection at 0x29a557ad8e0>"
      ]
     },
     "execution_count": 6,
     "metadata": {},
     "output_type": "execute_result"
    },
    {
     "data": {
      "image/png": "[encoded data removed]",
      "text/plain": [
       "<Figure size 432x288 with 1 Axes>"
      ]
     },
     "metadata": {
      "needs_background": "light"
     },
     "output_type": "display_data"
    }
   ],
   "source": [
    "plt.scatter(data_sorted[:,0], data_sorted[:,1])"
   ]
  },
  {
   "cell_type": "code",
   "execution_count": 7,
   "metadata": {},
   "outputs": [
    {
     "data": {
      "image/png": "[encoded data removed]",
      "text/plain": [
       "<Figure size 432x288 with 1 Axes>"
      ]
     },
     "metadata": {
      "needs_background": "light"
     },
     "output_type": "display_data"
    }
   ],
   "source": [
    "x = [data_sorted[:,0].min(), data_sorted[0][0]]\n",
    "y = [1.0, data_sorted[0][1]]\n",
    "\n",
    "#x = []\n",
    "#y = []\n",
    "\n",
    "for i in range(1, len(data_sorted)):\n",
    "    current = data_sorted[i]\n",
    "    prev = data_sorted[i - 1]\n",
    "    \n",
    "    x.append(current[0])\n",
    "    y.append(prev[1])\n",
    "    \n",
    "    x.append(current[0])\n",
    "    y.append(current[1])\n",
    "\n",
    "x.append(data_sorted[-1][0])\n",
    "y.append(0.0)\n",
    "    \n",
    "plt.xlim(0, 1)\n",
    "plt.ylim(0, 1)\n",
    "plt.plot(x, y);\n",
    "\n",
    "\n",
    "for i in range(0, 10):\n",
    "    plt.axline((0, i * 0.1), slope=0.2, color='black')"
   ]
  },
  {
   "cell_type": "code",
   "execution_count": 8,
   "metadata": {},
   "outputs": [],
   "source": [
    "# y = 0.2x + 0.1\n",
    "# x = 5y - 0.5"
   ]
  },
  {
   "cell_type": "code",
   "execution_count": 9,
   "metadata": {},
   "outputs": [],
   "source": [
    "np.arange?"
   ]
  },
  {
   "cell_type": "code",
   "execution_count": 10,
   "metadata": {},
   "outputs": [],
   "source": [
    "# horizontal line segment, [0.4, 0.5] at y=0.5"
   ]
  },
  {
   "cell_type": "code",
   "execution_count": 11,
   "metadata": {},
   "outputs": [
    {
     "data": {
      "text/plain": [
       "(5, 2)"
      ]
     },
     "execution_count": 11,
     "metadata": {},
     "output_type": "execute_result"
    }
   ],
   "source": [
    "horizontal_segments = np.array([\n",
    "    [0.1, 0.4],\n",
    "    [0.4, 0.5],\n",
    "    [0.5, 0.6],\n",
    "    [0.6, 0.8],\n",
    "    [0.8, 0.95]\n",
    "])\n",
    "horizontal_segments.shape"
   ]
  },
  {
   "cell_type": "code",
   "execution_count": 12,
   "metadata": {},
   "outputs": [
    {
     "data": {
      "text/plain": [
       "array([0.8, 0.7, 0.5, 0.4, 0.2])"
      ]
     },
     "execution_count": 12,
     "metadata": {},
     "output_type": "execute_result"
    }
   ],
   "source": [
    "y_val = np.array([\n",
    "    0.8,\n",
    "    0.7,\n",
    "    0.5,\n",
    "    0.4,\n",
    "    0.2\n",
    "    ])\n",
    "y_val"
   ]
  },
  {
   "cell_type": "code",
   "execution_count": 13,
   "metadata": {},
   "outputs": [
    {
     "data": {
      "text/plain": [
       "array([[0.12, 0.18],\n",
       "       [0.18, 0.2 ],\n",
       "       [0.2 , 0.22],\n",
       "       [0.22, 0.26],\n",
       "       [0.26, 0.29]])"
      ]
     },
     "execution_count": 13,
     "metadata": {},
     "output_type": "execute_result"
    }
   ],
   "source": [
    "intercept_points = horizontal_segments * 0.2 + 0.1\n",
    "intercept_points"
   ]
  },
  {
   "cell_type": "code",
   "execution_count": 14,
   "metadata": {},
   "outputs": [
    {
     "data": {
      "text/plain": [
       "array([], shape=(0, 2), dtype=float64)"
      ]
     },
     "execution_count": 14,
     "metadata": {},
     "output_type": "execute_result"
    }
   ],
   "source": [
    "horizontal_segments[(intercept_points[:,0] <= y_val) & (y_val <= intercept_points[:,1])]"
   ]
  },
  {
   "cell_type": "code",
   "execution_count": 15,
   "metadata": {},
   "outputs": [
    {
     "data": {
      "text/plain": [
       "[<matplotlib.lines.Line2D at 0x29a558ac2e0>]"
      ]
     },
     "execution_count": 15,
     "metadata": {},
     "output_type": "execute_result"
    },
    {
     "data": {
      "image/png": "[encoded data removed]",
      "text/plain": [
       "<Figure size 432x288 with 1 Axes>"
      ]
     },
     "metadata": {
      "needs_background": "light"
     },
     "output_type": "display_data"
    }
   ],
   "source": [
    "x = [0.1, 0.2, 0.2, 0.3]\n",
    "y = [0.5, 0.5, 0.7, 0.7]\n",
    "plt.plot(x, y)"
   ]
  },
  {
   "cell_type": "code",
   "execution_count": 16,
   "metadata": {},
   "outputs": [
    {
     "data": {
      "text/plain": [
       "<matplotlib.collections.LineCollection at 0x29a558e0df0>"
      ]
     },
     "execution_count": 16,
     "metadata": {},
     "output_type": "execute_result"
    },
    {
     "data": {
      "image/png": "[encoded data removed]",
      "text/plain": [
       "<Figure size 432x288 with 1 Axes>"
      ]
     },
     "metadata": {
      "needs_background": "light"
     },
     "output_type": "display_data"
    }
   ],
   "source": [
    "from matplotlib import collections  as mc\n",
    "lines = [[(0, 1), (1, 1)], [(2, 3), (3, 3)], [(1, 2), (1, 3)]]\n",
    "c = np.array([(1, 0, 0, 1), (0, 1, 0, 1), (0, 0, 1, 1)])\n",
    "\n",
    "lc = mc.LineCollection(lines, colors=c, linewidths=2)\n",
    "fig, ax = plt.subplots()\n",
    "ax.set_xlim(-2, 4)\n",
    "ax.set_ylim(-2, 4)\n",
    "ax.add_collection(lc)"
   ]
  },
  {
   "cell_type": "code",
   "execution_count": 17,
   "metadata": {},
   "outputs": [
    {
     "data": {
      "text/plain": [
       "[(array([0.1, 0.4]),),\n",
       " (array([0.4, 0.5]),),\n",
       " (array([0.5, 0.6]),),\n",
       " (array([0.6, 0.8]),),\n",
       " (array([0.8 , 0.95]),)]"
      ]
     },
     "execution_count": 17,
     "metadata": {},
     "output_type": "execute_result"
    }
   ],
   "source": [
    "list(zip(horizontal_segments))"
   ]
  },
  {
   "cell_type": "code",
   "execution_count": 18,
   "metadata": {},
   "outputs": [
    {
     "data": {
      "text/plain": [
       "(50, 100)"
      ]
     },
     "execution_count": 18,
     "metadata": {},
     "output_type": "execute_result"
    }
   ],
   "source": [
    "from matplotlib import colors as mcolors\n",
    "from matplotlib.collections import LineCollection\n",
    "# In order to efficiently plot many lines in a single set of axes,\n",
    "# Matplotlib has the ability to add the lines all at once. Here is a\n",
    "# simple example showing how it is done.\n",
    "\n",
    "x = np.arange(100)\n",
    "ys = x[:50, np.newaxis] + x[np.newaxis, :]\n",
    "ys.shape"
   ]
  },
  {
   "cell_type": "code",
   "execution_count": 19,
   "metadata": {},
   "outputs": [],
   "source": [
    "segs = np.zeros((50, 100, 2))\n",
    "segs[:, :, 1] = ys\n",
    "segs[:, :, 0] = x"
   ]
  },
  {
   "cell_type": "code",
   "execution_count": 20,
   "metadata": {},
   "outputs": [],
   "source": [
    "segs_masked = np.ma.masked_where((segs > 50) & (segs < 60), segs)"
   ]
  },
  {
   "cell_type": "code",
   "execution_count": 21,
   "metadata": {},
   "outputs": [
    {
     "data": {
      "text/plain": [
       "(50, 100, 2)"
      ]
     },
     "execution_count": 21,
     "metadata": {},
     "output_type": "execute_result"
    }
   ],
   "source": [
    "colors = [mcolors.to_rgba(c)\n",
    "          for c in plt.rcParams['axes.prop_cycle'].by_key()['color']]\n",
    "segs_masked.shape"
   ]
  },
  {
   "cell_type": "code",
   "execution_count": 22,
   "metadata": {},
   "outputs": [
    {
     "data": {
      "image/png": "[encoded data removed]",
      "text/plain": [
       "<Figure size 432x288 with 1 Axes>"
      ]
     },
     "metadata": {
      "needs_background": "light"
     },
     "output_type": "display_data"
    }
   ],
   "source": [
    "segs_masked2 = segs_masked.copy()\n",
    "segs_masked2[:, 20:40, 1] = segs_masked[:, 20:40, 1] * 0.8\n",
    "fig, ax = plt.subplots()\n",
    "ax.set_xlim(x.min(), x.max())\n",
    "ax.set_ylim(ys.min(), ys.max())\n",
    "line_segments = LineCollection(segs_masked2[:, :, :], linewidths=(0.5, 1, 1.5, 2),\n",
    "                               colors=colors, linestyle='solid')\n",
    "ax.add_collection(line_segments)\n",
    "ax.set_title('Line collection with masked arrays')\n",
    "plt.show()"
   ]
  },
  {
   "cell_type": "code",
   "execution_count": 23,
   "metadata": {},
   "outputs": [],
   "source": [
    "from matplotlib import colors as mcolors\n",
    "from matplotlib.collections import LineCollection\n",
    "colors = [mcolors.to_rgba(c)\n",
    "          for c in plt.rcParams['axes.prop_cycle'].by_key()['color']]\n",
    "lines = [[(1, 1), (2, 2)]]\n",
    "\n",
    "def draw(data):\n",
    "    fig, ax = plt.subplots()\n",
    "    ax.set_xlim(0, 1)\n",
    "    ax.set_ylim(0, 1)\n",
    "    line_segments = LineCollection(data, linewidths=(0.5, 1, 1.5, 2),\n",
    "                                   colors=colors, linestyle='solid')\n",
    "    ax.add_collection(line_segments)\n",
    "    plt.show()"
   ]
  },
  {
   "cell_type": "code",
   "execution_count": 24,
   "metadata": {},
   "outputs": [
    {
     "data": {
      "text/plain": [
       "array([[[1, 1],\n",
       "        [2, 2],\n",
       "        [2, 4]],\n",
       "\n",
       "       [[5, 5],\n",
       "        [3, 3],\n",
       "        [6, 2]]])"
      ]
     },
     "execution_count": 24,
     "metadata": {},
     "output_type": "execute_result"
    }
   ],
   "source": [
    "a = np.array([1, 1, 2, 2, 2, 4, 5, 5, 3, 3, 6, 2]).reshape((2, 3, 2))\n",
    "a"
   ]
  },
  {
   "cell_type": "code",
   "execution_count": 25,
   "metadata": {},
   "outputs": [
    {
     "data": {
      "image/png": "[encoded data removed]",
      "text/plain": [
       "<Figure size 432x288 with 1 Axes>"
      ]
     },
     "metadata": {
      "needs_background": "light"
     },
     "output_type": "display_data"
    }
   ],
   "source": [
    "draw(a)"
   ]
  },
  {
   "cell_type": "code",
   "execution_count": 26,
   "metadata": {},
   "outputs": [
    {
     "data": {
      "text/plain": [
       "masked_array(data=[1.0, 2.0, 3.0, 4.0, 5.0, 6.0, 7.0, 8.0, 9.0, 10.0,\n",
       "                   11.0, 12.0, 13.0, 14.0, 15.0, 16.0, 17.0, 18.0, 19.0,\n",
       "                   20.0, 21.0, 22.0, 23.0, 24.0, 25.0, 26.0, 27.0, 28.0,\n",
       "                   29.0, 30.0, 31.0, 32.0, 33.0, 34.0, 35.0, 36.0, 37.0,\n",
       "                   38.0, 39.0, 40.0, 41.0, 42.0, 43.0, 44.0, 45.0, 46.0,\n",
       "                   47.0, 48.0, 49.0, 50.0, --, --, --, --, --, --, --, --,\n",
       "                   --, 60.0, 61.0, 62.0, 63.0, 64.0, 65.0, 66.0, 67.0,\n",
       "                   68.0, 69.0, 70.0, 71.0, 72.0, 73.0, 74.0, 75.0, 76.0,\n",
       "                   77.0, 78.0, 79.0, 80.0, 81.0, 82.0, 83.0, 84.0, 85.0,\n",
       "                   86.0, 87.0, 88.0, 89.0, 90.0, 91.0, 92.0, 93.0, 94.0,\n",
       "                   95.0, 96.0, 97.0, 98.0, 99.0, 100.0],\n",
       "             mask=[False, False, False, False, False, False, False, False,\n",
       "                   False, False, False, False, False, False, False, False,\n",
       "                   False, False, False, False, False, False, False, False,\n",
       "                   False, False, False, False, False, False, False, False,\n",
       "                   False, False, False, False, False, False, False, False,\n",
       "                   False, False, False, False, False, False, False, False,\n",
       "                   False, False,  True,  True,  True,  True,  True,  True,\n",
       "                    True,  True,  True, False, False, False, False, False,\n",
       "                   False, False, False, False, False, False, False, False,\n",
       "                   False, False, False, False, False, False, False, False,\n",
       "                   False, False, False, False, False, False, False, False,\n",
       "                   False, False, False, False, False, False, False, False,\n",
       "                   False, False, False, False],\n",
       "       fill_value=1e+20)"
      ]
     },
     "execution_count": 26,
     "metadata": {},
     "output_type": "execute_result"
    }
   ],
   "source": [
    "segs_masked[1, :, 1]"
   ]
  },
  {
   "cell_type": "code",
   "execution_count": 27,
   "metadata": {},
   "outputs": [
    {
     "data": {
      "text/plain": [
       "array([[0.1 , 0.4 ],\n",
       "       [0.4 , 0.5 ],\n",
       "       [0.5 , 0.6 ],\n",
       "       [0.6 , 0.8 ],\n",
       "       [0.8 , 0.95]])"
      ]
     },
     "execution_count": 27,
     "metadata": {},
     "output_type": "execute_result"
    }
   ],
   "source": [
    "horizontal_segments"
   ]
  },
  {
   "cell_type": "code",
   "execution_count": null,
   "metadata": {},
   "outputs": [],
   "source": []
  },
  {
   "cell_type": "code",
   "execution_count": 28,
   "metadata": {},
   "outputs": [
    {
     "ename": "ValueError",
     "evalue": "could not broadcast input array from shape (1,5) into shape (5,2)",
     "output_type": "error",
     "traceback": [
      "\u001b[1;31m---------------------------------------------------------------------------\u001b[0m",
      "\u001b[1;31mValueError\u001b[0m                                Traceback (most recent call last)",
      "\u001b[1;32m<ipython-input-28-0b0b39aa5080>\u001b[0m in \u001b[0;36m<module>\u001b[1;34m\u001b[0m\n\u001b[0;32m      1\u001b[0m \u001b[0mline_segments\u001b[0m \u001b[1;33m=\u001b[0m \u001b[0mnp\u001b[0m\u001b[1;33m.\u001b[0m\u001b[0mempty\u001b[0m\u001b[1;33m(\u001b[0m\u001b[1;33m(\u001b[0m\u001b[0mhorizontal_segments\u001b[0m\u001b[1;33m.\u001b[0m\u001b[0mshape\u001b[0m\u001b[1;33m[\u001b[0m\u001b[1;36m0\u001b[0m\u001b[1;33m]\u001b[0m\u001b[1;33m,\u001b[0m \u001b[1;36m2\u001b[0m\u001b[1;33m,\u001b[0m \u001b[1;36m2\u001b[0m\u001b[1;33m)\u001b[0m\u001b[1;33m)\u001b[0m\u001b[1;33m\u001b[0m\u001b[1;33m\u001b[0m\u001b[0m\n\u001b[0;32m      2\u001b[0m \u001b[0mline_segments\u001b[0m\u001b[1;33m[\u001b[0m\u001b[1;33m:\u001b[0m\u001b[1;33m]\u001b[0m \u001b[1;33m=\u001b[0m \u001b[0mhorizontal_segments\u001b[0m\u001b[1;33m[\u001b[0m\u001b[1;33m:\u001b[0m\u001b[1;33m,\u001b[0m \u001b[1;33m:\u001b[0m\u001b[1;33m,\u001b[0m \u001b[0mnp\u001b[0m\u001b[1;33m.\u001b[0m\u001b[0mnewaxis\u001b[0m\u001b[1;33m]\u001b[0m\u001b[1;33m\u001b[0m\u001b[1;33m\u001b[0m\u001b[0m\n\u001b[1;32m----> 3\u001b[1;33m \u001b[0mline_segments\u001b[0m\u001b[1;33m[\u001b[0m\u001b[1;33m:\u001b[0m\u001b[1;33m,\u001b[0m \u001b[1;33m:\u001b[0m\u001b[1;33m,\u001b[0m \u001b[1;36m1\u001b[0m\u001b[1;33m]\u001b[0m \u001b[1;33m=\u001b[0m \u001b[0my_val\u001b[0m\u001b[1;33m[\u001b[0m\u001b[0mnp\u001b[0m\u001b[1;33m.\u001b[0m\u001b[0mnewaxis\u001b[0m\u001b[1;33m,\u001b[0m \u001b[0mnp\u001b[0m\u001b[1;33m.\u001b[0m\u001b[0mnewaxis\u001b[0m\u001b[1;33m,\u001b[0m \u001b[1;33m:\u001b[0m\u001b[1;33m]\u001b[0m\u001b[1;33m\u001b[0m\u001b[1;33m\u001b[0m\u001b[0m\n\u001b[0m\u001b[0;32m      4\u001b[0m \u001b[0mline_segments\u001b[0m\u001b[1;33m\u001b[0m\u001b[1;33m\u001b[0m\u001b[0m\n",
      "\u001b[1;31mValueError\u001b[0m: could not broadcast input array from shape (1,5) into shape (5,2)"
     ]
    }
   ],
   "source": [
    "line_segments = np.empty((horizontal_segments.shape[0], 2, 2))\n",
    "line_segments[:] = horizontal_segments[:, :, np.newaxis]\n",
    "line_segments[:, :, 1] = y_val[np.newaxis, np.newaxis, :]\n",
    "line_segments"
   ]
  },
  {
   "cell_type": "code",
   "execution_count": 29,
   "metadata": {},
   "outputs": [
    {
     "data": {
      "text/plain": [
       "array([0.8, 0.7, 0.5, 0.4, 0.2])"
      ]
     },
     "execution_count": 29,
     "metadata": {},
     "output_type": "execute_result"
    }
   ],
   "source": [
    "y_val"
   ]
  },
  {
   "cell_type": "code",
   "execution_count": 30,
   "metadata": {},
   "outputs": [
    {
     "data": {
      "text/plain": [
       "array([[[0.8, 0.7, 0.5, 0.4, 0.2]]])"
      ]
     },
     "execution_count": 30,
     "metadata": {},
     "output_type": "execute_result"
    }
   ],
   "source": [
    "y_val[np.newaxis, np.newaxis, :]"
   ]
  },
  {
   "cell_type": "code",
   "execution_count": 31,
   "metadata": {},
   "outputs": [],
   "source": [
    "yval2 = np.array([[i, i] for i in y_val])"
   ]
  },
  {
   "cell_type": "code",
   "execution_count": 32,
   "metadata": {},
   "outputs": [
    {
     "data": {
      "text/plain": [
       "array([[[0.1 , 0.8 ],\n",
       "        [0.4 , 0.8 ]],\n",
       "\n",
       "       [[0.4 , 0.7 ],\n",
       "        [0.5 , 0.7 ]],\n",
       "\n",
       "       [[0.5 , 0.5 ],\n",
       "        [0.6 , 0.5 ]],\n",
       "\n",
       "       [[0.6 , 0.4 ],\n",
       "        [0.8 , 0.4 ]],\n",
       "\n",
       "       [[0.8 , 0.2 ],\n",
       "        [0.95, 0.2 ]]])"
      ]
     },
     "execution_count": 32,
     "metadata": {},
     "output_type": "execute_result"
    }
   ],
   "source": [
    "line_segments = np.empty((horizontal_segments.shape[0], 2, 2))\n",
    "line_segments[:] = horizontal_segments[:, :, np.newaxis]\n",
    "line_segments[:, :, 1] = yval2\n",
    "line_segments"
   ]
  },
  {
   "cell_type": "code",
   "execution_count": 33,
   "metadata": {},
   "outputs": [
    {
     "data": {
      "image/png": "[encoded data removed]",
      "text/plain": [
       "<Figure size 432x288 with 1 Axes>"
      ]
     },
     "metadata": {
      "needs_background": "light"
     },
     "output_type": "display_data"
    }
   ],
   "source": [
    "draw(line_segments)"
   ]
  },
  {
   "cell_type": "code",
   "execution_count": 34,
   "metadata": {},
   "outputs": [
    {
     "data": {
      "text/plain": [
       "(5, 2, 2)"
      ]
     },
     "execution_count": 34,
     "metadata": {},
     "output_type": "execute_result"
    }
   ],
   "source": [
    "line_segments.shape"
   ]
  },
  {
   "cell_type": "code",
   "execution_count": 35,
   "metadata": {},
   "outputs": [
    {
     "data": {
      "text/plain": [
       "array([[0.4, 0.7],\n",
       "       [0.5, 0.7]])"
      ]
     },
     "execution_count": 35,
     "metadata": {},
     "output_type": "execute_result"
    }
   ],
   "source": [
    "line_segments[1]\n"
   ]
  },
  {
   "cell_type": "code",
   "execution_count": 36,
   "metadata": {},
   "outputs": [
    {
     "data": {
      "image/png": "[encoded data removed]",
      "text/plain": [
       "<Figure size 432x288 with 1 Axes>"
      ]
     },
     "metadata": {
      "needs_background": "light"
     },
     "output_type": "display_data"
    }
   ],
   "source": [
    "draw(line_segments[:, :, ::-1])"
   ]
  },
  {
   "cell_type": "code",
   "execution_count": 37,
   "metadata": {},
   "outputs": [
    {
     "data": {
      "text/plain": [
       "array([[0.1 , 0.9 ],\n",
       "       [0.15, 0.88],\n",
       "       [0.22, 0.7 ],\n",
       "       [0.3 , 0.6 ],\n",
       "       [0.38, 0.56],\n",
       "       [0.42, 0.55],\n",
       "       [0.5 , 0.5 ],\n",
       "       [0.6 , 0.4 ],\n",
       "       [0.7 , 0.2 ],\n",
       "       [0.9 , 0.1 ],\n",
       "       [0.99, 0.06]])"
      ]
     },
     "execution_count": 37,
     "metadata": {},
     "output_type": "execute_result"
    }
   ],
   "source": [
    "pareto_front = data_sorted\n",
    "pareto_front"
   ]
  },
  {
   "cell_type": "code",
   "execution_count": 38,
   "metadata": {},
   "outputs": [
    {
     "data": {
      "text/plain": [
       "<matplotlib.collections.PathCollection at 0x29a56ac8d60>"
      ]
     },
     "execution_count": 38,
     "metadata": {},
     "output_type": "execute_result"
    },
    {
     "data": {
      "image/png": "[encoded data removed]",
      "text/plain": [
       "<Figure size 432x288 with 1 Axes>"
      ]
     },
     "metadata": {
      "needs_background": "light"
     },
     "output_type": "display_data"
    }
   ],
   "source": [
    "plt.scatter(pareto_front[:,0], pareto_front[:,1])"
   ]
  },
  {
   "cell_type": "code",
   "execution_count": 39,
   "metadata": {},
   "outputs": [],
   "source": [
    "x_max = y_max = 1\n",
    "\n",
    "n_points = pareto_front.shape[0]\n",
    "horizontal = np.empty((n_points, 2, 2))\n",
    "for i in range(n_points - 1):\n",
    "    start = pareto_front[i][0]\n",
    "    stop = pareto_front[i+1][0]\n",
    "    y = pareto_front[i][1]\n",
    "    horizontal[i, :, 0] = start, stop\n",
    "    horizontal[i, :, 1] = y\n",
    "horizontal[n_points - 1] = np.array([pareto_front[-1, 0], pareto_front[-1, 1], x_max, pareto_front[-1, 1]]).reshape((2, 2))\n",
    "#horizontal[n_points - 1] = np.array([pareto_front, pareto_front[-1, 1], x_max, pareto_front[-1,1]]).reshape((2, 2))\n",
    "\n",
    "vertical = np.empty((n_points, 2, 2))\n",
    "for i in range(n_points - 1):\n",
    "    start = pareto_front[i][1]\n",
    "    stop = pareto_front[i+1][1]\n",
    "    x = pareto_front[i+1][0]\n",
    "    vertical[i+1, :, 0] = x\n",
    "    vertical[i+1, :, 1] = start, stop\n",
    "vertical[0] = np.array([pareto_front[0,0], y_max, pareto_front[0,0], pareto_front[0,1]]).reshape((2, 2))"
   ]
  },
  {
   "cell_type": "code",
   "execution_count": null,
   "metadata": {},
   "outputs": [],
   "source": []
  },
  {
   "cell_type": "code",
   "execution_count": null,
   "metadata": {},
   "outputs": [],
   "source": []
  },
  {
   "cell_type": "code",
   "execution_count": 40,
   "metadata": {},
   "outputs": [
    {
     "data": {
      "text/plain": [
       "<matplotlib.lines._AxLine at 0x29a56b21c40>"
      ]
     },
     "execution_count": 40,
     "metadata": {},
     "output_type": "execute_result"
    },
    {
     "data": {
      "image/png": "[encoded data removed]",
      "text/plain": [
       "<Figure size 432x288 with 1 Axes>"
      ]
     },
     "metadata": {
      "needs_background": "light"
     },
     "output_type": "display_data"
    }
   ],
   "source": [
    "fig, ax = plt.subplots()\n",
    "ax.set_xlim(0, 1)\n",
    "ax.set_ylim(0, 1)\n",
    "lines = np.append(horizontal, vertical, axis=0)\n",
    "line_segments = LineCollection(lines)\n",
    "ax.add_collection(line_segments)\n",
    "ax.axline((0, 0), slope=3.5, color='black', ls='--')\n",
    "#plt.scatter(pareto_front[:, 0], pareto_front[:, 1])"
   ]
  },
  {
   "cell_type": "code",
   "execution_count": 41,
   "metadata": {},
   "outputs": [
    {
     "data": {
      "text/plain": [
       "array([[[0.1 , 0.9 ],\n",
       "        [0.15, 0.9 ]],\n",
       "\n",
       "       [[0.15, 0.88],\n",
       "        [0.22, 0.88]],\n",
       "\n",
       "       [[0.22, 0.7 ],\n",
       "        [0.3 , 0.7 ]],\n",
       "\n",
       "       [[0.3 , 0.6 ],\n",
       "        [0.38, 0.6 ]],\n",
       "\n",
       "       [[0.38, 0.56],\n",
       "        [0.42, 0.56]],\n",
       "\n",
       "       [[0.42, 0.55],\n",
       "        [0.5 , 0.55]],\n",
       "\n",
       "       [[0.5 , 0.5 ],\n",
       "        [0.6 , 0.5 ]],\n",
       "\n",
       "       [[0.6 , 0.4 ],\n",
       "        [0.7 , 0.4 ]],\n",
       "\n",
       "       [[0.7 , 0.2 ],\n",
       "        [0.9 , 0.2 ]],\n",
       "\n",
       "       [[0.9 , 0.1 ],\n",
       "        [0.99, 0.1 ]],\n",
       "\n",
       "       [[0.99, 0.06],\n",
       "        [1.  , 0.06]]])"
      ]
     },
     "execution_count": 41,
     "metadata": {},
     "output_type": "execute_result"
    }
   ],
   "source": [
    "horizontal"
   ]
  },
  {
   "cell_type": "code",
   "execution_count": 42,
   "metadata": {},
   "outputs": [
    {
     "data": {
      "text/plain": [
       "array([[0.1 , 0.9 ],\n",
       "       [0.15, 0.9 ]])"
      ]
     },
     "execution_count": 42,
     "metadata": {},
     "output_type": "execute_result"
    }
   ],
   "source": [
    "# y = 0.2x + 0.1\n",
    "# x = 5y - 0.5\n",
    "horizontal[0]"
   ]
  },
  {
   "cell_type": "code",
   "execution_count": 43,
   "metadata": {},
   "outputs": [
    {
     "data": {
      "text/plain": [
       "array([0.1 , 0.15])"
      ]
     },
     "execution_count": 43,
     "metadata": {},
     "output_type": "execute_result"
    }
   ],
   "source": [
    "horizontal[0, :, 0] "
   ]
  },
  {
   "cell_type": "code",
   "execution_count": 44,
   "metadata": {},
   "outputs": [
    {
     "data": {
      "text/plain": [
       "array([False, False, False, False, False, False, False, False, False,\n",
       "       False, False])"
      ]
     },
     "execution_count": 44,
     "metadata": {},
     "output_type": "execute_result"
    }
   ],
   "source": [
    "(horizontal[:, 0, 0] * 3.5 < horizontal[:, 0, 1]) & (horizontal[:, 1, 0] * 3.5 > horizontal[:, 1, 1])"
   ]
  },
  {
   "cell_type": "code",
   "execution_count": 45,
   "metadata": {},
   "outputs": [],
   "source": [
    "horizontal_m8 = horizontal.copy()\n",
    "horizontal_m8[:, :, 0] *= 8\n",
    "horizontal_m8;"
   ]
  },
  {
   "cell_type": "code",
   "execution_count": 46,
   "metadata": {},
   "outputs": [],
   "source": [
    "hit = horizontal[(horizontal_m8[:, 0, 0] < horizontal_m8[:, 0, 1]) & (horizontal_m8[:, 1, 0] > horizontal_m8[:, 1, 1])]"
   ]
  },
  {
   "cell_type": "code",
   "execution_count": 47,
   "metadata": {},
   "outputs": [
    {
     "data": {
      "text/plain": [
       "<matplotlib.collections.PathCollection at 0x29a56b895e0>"
      ]
     },
     "execution_count": 47,
     "metadata": {},
     "output_type": "execute_result"
    },
    {
     "data": {
      "image/png": "[encoded data removed]",
      "text/plain": [
       "<Figure size 432x288 with 1 Axes>"
      ]
     },
     "metadata": {
      "needs_background": "light"
     },
     "output_type": "display_data"
    }
   ],
   "source": [
    "if hit.size > 0:\n",
    "    y_hit = hit[0,0,1]\n",
    "    # y = 8x\n",
    "    x_hit = y_hit / 8\n",
    "\n",
    "fig, ax = plt.subplots()\n",
    "ax.set_xlim(0, 1)\n",
    "ax.set_ylim(0, 1)\n",
    "lines = np.append(horizontal, vertical, axis=0)\n",
    "line_segments = LineCollection(lines)\n",
    "ax.add_collection(line_segments)\n",
    "ax.axline((0, 0), slope=8, color='black', ls='--')\n",
    "plt.scatter(pareto_front[:, 0], pareto_front[:, 1])\n",
    "plt.scatter(x_hit, y_hit, color='red')"
   ]
  },
  {
   "cell_type": "code",
   "execution_count": 48,
   "metadata": {},
   "outputs": [
    {
     "data": {
      "text/plain": [
       "0.9"
      ]
     },
     "execution_count": 48,
     "metadata": {},
     "output_type": "execute_result"
    }
   ],
   "source": [
    "hit[0,0,1]"
   ]
  },
  {
   "cell_type": "code",
   "execution_count": null,
   "metadata": {},
   "outputs": [],
   "source": [
    "horizontal"
   ]
  },
  {
   "cell_type": "code",
   "execution_count": null,
   "metadata": {},
   "outputs": [],
   "source": [
    "vertical"
   ]
  },
  {
   "cell_type": "code",
   "execution_count": 49,
   "metadata": {},
   "outputs": [
    {
     "data": {
      "text/plain": [
       "array([[0.22, 0.88],\n",
       "       [0.22, 0.7 ]])"
      ]
     },
     "execution_count": 49,
     "metadata": {},
     "output_type": "execute_result"
    }
   ],
   "source": [
    "seggy = vertical[2].copy()\n",
    "seggy"
   ]
  },
  {
   "cell_type": "code",
   "execution_count": 50,
   "metadata": {},
   "outputs": [
    {
     "data": {
      "text/plain": [
       "array([0.77, 0.77])"
      ]
     },
     "execution_count": 50,
     "metadata": {},
     "output_type": "execute_result"
    }
   ],
   "source": [
    "seggy[:, 0] * 3.5"
   ]
  },
  {
   "cell_type": "code",
   "execution_count": 51,
   "metadata": {},
   "outputs": [
    {
     "data": {
      "text/plain": [
       "array([[[0.35 , 1.   ],\n",
       "        [0.35 , 0.9  ]],\n",
       "\n",
       "       [[0.525, 0.9  ],\n",
       "        [0.525, 0.88 ]],\n",
       "\n",
       "       [[0.77 , 0.88 ],\n",
       "        [0.77 , 0.7  ]],\n",
       "\n",
       "       [[1.05 , 0.7  ],\n",
       "        [1.05 , 0.6  ]],\n",
       "\n",
       "       [[1.33 , 0.6  ],\n",
       "        [1.33 , 0.56 ]],\n",
       "\n",
       "       [[1.47 , 0.56 ],\n",
       "        [1.47 , 0.55 ]],\n",
       "\n",
       "       [[1.75 , 0.55 ],\n",
       "        [1.75 , 0.5  ]],\n",
       "\n",
       "       [[2.1  , 0.5  ],\n",
       "        [2.1  , 0.4  ]],\n",
       "\n",
       "       [[2.45 , 0.4  ],\n",
       "        [2.45 , 0.2  ]],\n",
       "\n",
       "       [[3.15 , 0.2  ],\n",
       "        [3.15 , 0.1  ]],\n",
       "\n",
       "       [[3.465, 0.1  ],\n",
       "        [3.465, 0.06 ]]])"
      ]
     },
     "execution_count": 51,
     "metadata": {},
     "output_type": "execute_result"
    }
   ],
   "source": [
    "v_m8 = vertical.copy()\n",
    "v_m8[:, :, 0] *= 3.5\n",
    "v_m8"
   ]
  },
  {
   "cell_type": "code",
   "execution_count": 52,
   "metadata": {},
   "outputs": [],
   "source": [
    "hit = vertical[(v_m8[:, 0, 0] < v_m8[:, 0, 1]) & (v_m8[:, 1, 0] > v_m8[:, 1, 1])]"
   ]
  },
  {
   "cell_type": "code",
   "execution_count": null,
   "metadata": {},
   "outputs": [],
   "source": [
    "hit"
   ]
  },
  {
   "cell_type": "code",
   "execution_count": 53,
   "metadata": {},
   "outputs": [],
   "source": [
    "x_max = y_max = 1\n",
    "n_points = pareto_front.shape[0]\n",
    "lines = np.empty((n_points * 2, 2, 2))\n",
    "\n",
    "for i in range(n_points - 1):\n",
    "    idx = 2 * i + 1\n",
    "    start = pareto_front[i][0]\n",
    "    stop = pareto_front[i+1][0]\n",
    "    y = pareto_front[i][1]\n",
    "    lines[idx, :, 0] = start, stop\n",
    "    lines[idx, :, 1] = y\n",
    "#horizontal[n_points - 1] = np.array([pareto_front, pareto_front[-1, 1], x_max, pareto_front[-1,1]]).reshape((2, 2))\n",
    "\n",
    "for i in range(n_points - 1):\n",
    "    idx = 2 * i + 2\n",
    "    start = pareto_front[i][1]\n",
    "    stop = pareto_front[i+1][1]\n",
    "    x = pareto_front[i+1][0]\n",
    "    lines[idx, :, 0] = x\n",
    "    lines[idx, :, 1] = start, stop\n",
    "lines[0] = np.array([pareto_front[0,0], y_max, pareto_front[0,0], pareto_front[0,1]]).reshape((2, 2))\n",
    "lines[-1] = np.array([pareto_front[-1, 0], pareto_front[-1, 1], x_max, pareto_front[-1, 1]]).reshape((2, 2))"
   ]
  },
  {
   "cell_type": "code",
   "execution_count": 54,
   "metadata": {},
   "outputs": [
    {
     "data": {
      "image/png": "[encoded data removed]",
      "text/plain": [
       "<Figure size 432x288 with 1 Axes>"
      ]
     },
     "metadata": {
      "needs_background": "light"
     },
     "output_type": "display_data"
    }
   ],
   "source": [
    "draw(lines)"
   ]
  },
  {
   "cell_type": "code",
   "execution_count": 58,
   "metadata": {},
   "outputs": [
    {
     "data": {
      "image/png": "[encoded data removed]",
      "text/plain": [
       "<Figure size 432x288 with 1 Axes>"
      ]
     },
     "metadata": {
      "needs_background": "light"
     },
     "output_type": "display_data"
    }
   ],
   "source": [
    "def hit_pt(line_segment, slope, intercept):\n",
    "    if line_segment[0,1] == line_segment[1,1]:\n",
    "        # Y values are the same, so the segment is horizontal\n",
    "        # If y = mx + b, then x = (y - b) / m, and we know y, m, and b\n",
    "        y = line_segment[0,1]\n",
    "        x = (y - intercept) / slope\n",
    "    elif line_segment[0,0] == line_segment[1,0]:\n",
    "        # X values are the same, so it should be a vertical segment\n",
    "        x = line_segment[0,0]\n",
    "        y = (slope * x) + intercept\n",
    "    return x, y\n",
    "\n",
    "fig, ax = plt.subplots()\n",
    "ax.set_xlim(0, 1)\n",
    "ax.set_ylim(0, 1)\n",
    "line_segments = LineCollection(lines, color='black')\n",
    "ax.add_collection(line_segments)\n",
    "\n",
    "\n",
    "\n",
    "    #    intercept -= 0.2 * slope\n",
    "for slope in np.power(np.linspace(0.2, 1.8, 10), 4):\n",
    "  for x_shift in np.linspace(-0.2, 0.85, 10):\n",
    "    for y_shift in np.linspace(-0.5, 0.7, 10):\n",
    "        intercept = y_shift - x_shift * slope\n",
    "        lines_copy = lines.copy()\n",
    "        lines_copy[:, :, 0] = (lines_copy[:, :, 0] * slope) + intercept\n",
    "        hit_left = lines_copy[:, 0, 0] <= lines_copy[:, 0, 1]\n",
    "        hit_right = lines_copy[:, 1, 0] >= lines_copy[:, 1, 1]\n",
    "        hit = lines[hit_left & hit_right]\n",
    "        if hit.shape[0] == 0:\n",
    "            pass\n",
    "            #ax.axline((0, intercept), slope=slope, color='red', linestyle='--')\n",
    "        else:\n",
    "            x, y = hit_pt(hit[0], slope, intercept)\n",
    "#        ax.axline((0,intercept), slope=slope, color='blue', linestyle='--')\n",
    "            plt.scatter(x, y, color='red')"
   ]
  },
  {
   "cell_type": "code",
   "execution_count": null,
   "metadata": {},
   "outputs": [],
   "source": [
    "np."
   ]
  },
  {
   "cell_type": "code",
   "execution_count": null,
   "metadata": {},
   "outputs": [],
   "source": [
    "hit[0,0,0]"
   ]
  },
  {
   "cell_type": "code",
   "execution_count": null,
   "metadata": {},
   "outputs": [],
   "source": [
    "pareto_front_2 = np.array([\n",
    "    [0.05, 0.95],\n",
    "    [0.2, 0.88],\n",
    "    [0.25, 0.85],\n",
    "    [0.3, 0.6],\n",
    "    [0.4, 0.5],\n",
    "    [0.7, 0.3],\n",
    "    [0.9, 0.1]\n",
    "])\n",
    "pareto_front_2"
   ]
  },
  {
   "cell_type": "code",
   "execution_count": null,
   "metadata": {},
   "outputs": [],
   "source": [
    "pf2 = pareto_front + np.random.normal(0, 0.02, pareto_front.shape)\n",
    "pf3 = pareto_front + np.random.normal(0.1, 0.02, pareto_front.shape)\n",
    "fronts = np.array([pareto_front, pf2, pf3])\n",
    "fronts[fronts < 0.001] = 0.001"
   ]
  },
  {
   "cell_type": "code",
   "execution_count": null,
   "metadata": {},
   "outputs": [],
   "source": [
    "plt.scatter(x=fronts[0,:,0], y=fronts[0,:,1], marker='o', color='green')\n",
    "plt.scatter(x=fronts[1,:,0], y=fronts[1,:,1], marker='v', color='blue')\n",
    "plt.scatter(x=fronts[2,:,0], y=fronts[2,:,1], marker='^', color='red')"
   ]
  },
  {
   "cell_type": "code",
   "execution_count": null,
   "metadata": {},
   "outputs": [],
   "source": [
    "x_max = fronts[:,:,0].max()\n",
    "y_max = fronts[:,:,1].max()"
   ]
  },
  {
   "cell_type": "code",
   "execution_count": null,
   "metadata": {},
   "outputs": [],
   "source": [
    "def attainment_lines(pareto_front):\n",
    "    n_points = pareto_front.shape[0]\n",
    "    lines = np.empty((n_points * 2, 2, 2))\n",
    "\n",
    "    for i in range(n_points - 1):\n",
    "        idx = 2 * i + 1\n",
    "        start = pareto_front[i][0]\n",
    "        stop = pareto_front[i+1][0]\n",
    "        y = pareto_front[i][1]\n",
    "        lines[idx, :, 0] = start, stop\n",
    "        lines[idx, :, 1] = y\n",
    "\n",
    "    for i in range(n_points - 1):\n",
    "        idx = 2 * i + 2\n",
    "        start = pareto_front[i][1]\n",
    "        stop = pareto_front[i+1][1]\n",
    "        x = pareto_front[i+1][0]\n",
    "        lines[idx, :, 0] = x\n",
    "        lines[idx, :, 1] = start, stop\n",
    "    lines[0] = np.array([pareto_front[0,0], y_max, pareto_front[0,0], pareto_front[0,1]]).reshape((2, 2))\n",
    "    lines[-1] = np.array([pareto_front[-1, 0], pareto_front[-1, 1], x_max, pareto_front[-1, 1]]).reshape((2, 2))\n",
    "    return lines\n",
    "\n",
    "\n",
    "fig, ax = plt.subplots()\n",
    "ax.set_xlim(0, x_max)\n",
    "ax.set_ylim(0, y_max)\n",
    "\n",
    "for lines in map(attainment_lines, fronts):\n",
    "    line_segments = LineCollection(lines, color='black')\n",
    "    ax.add_collection(line_segments)\n",
    "    \n",
    "plt.scatter(x=fronts[0,:,0], y=fronts[0,:,1], marker='o', color='green')\n",
    "plt.scatter(x=fronts[1,:,0], y=fronts[1,:,1], marker='v', color='blue')\n",
    "plt.scatter(x=fronts[2,:,0], y=fronts[2,:,1], marker='^', color='red')\n",
    "plt.show()"
   ]
  },
  {
   "cell_type": "code",
   "execution_count": null,
   "metadata": {},
   "outputs": [],
   "source": [
    "fronts.shape"
   ]
  },
  {
   "cell_type": "code",
   "execution_count": null,
   "metadata": {},
   "outputs": [],
   "source": [
    "x_max = fronts[:, :, 0].max()\n",
    "x_max"
   ]
  },
  {
   "cell_type": "code",
   "execution_count": null,
   "metadata": {},
   "outputs": [],
   "source": [
    "fig, ax = plt.subplots()\n",
    "ax.set_xlim(0, 1)\n",
    "ax.set_ylim(0, 1)\n",
    "\n",
    "lines = attainment_lines(pareto_front_2)\n",
    "    \n",
    "plt.scatter(x=pareto_front_2[:,0], y=pareto_front_2[:,1], marker='o', color='green')\n",
    "ax.add_collection(LineCollection(lines))\n",
    "\n",
    "plt.show()"
   ]
  },
  {
   "cell_type": "code",
   "execution_count": null,
   "metadata": {},
   "outputs": [],
   "source": []
  }
 ],
 "metadata": {
  "kernelspec": {
   "display_name": "Python 3",
   "language": "python",
   "name": "python3"
  },
  "language_info": {
   "codemirror_mode": {
    "name": "ipython",
    "version": 3
   },
   "file_extension": ".py",
   "mimetype": "text/x-python",
   "name": "python",
   "nbconvert_exporter": "python",
   "pygments_lexer": "ipython3",
   "version": "3.8.5"
  }
 },
 "nbformat": 4,
 "nbformat_minor": 4
}
