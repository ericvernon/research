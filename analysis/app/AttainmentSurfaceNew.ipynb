{
 "cells": [
  {
   "cell_type": "code",
   "execution_count": 1,
   "metadata": {},
   "outputs": [],
   "source": [
    "import numpy as np\n",
    "import pandas as pd\n",
    "import matplotlib.pyplot as plt\n",
    "from matplotlib.collections import LineCollection"
   ]
  },
  {
   "cell_type": "code",
   "execution_count": 101,
   "metadata": {},
   "outputs": [
    {
     "data": {
      "text/plain": [
       "array([[0.1 , 0.9 ],\n",
       "       [0.15, 0.88],\n",
       "       [0.22, 0.7 ],\n",
       "       [0.3 , 0.6 ],\n",
       "       [0.38, 0.56],\n",
       "       [0.42, 0.55],\n",
       "       [0.5 , 0.5 ],\n",
       "       [0.6 , 0.4 ],\n",
       "       [0.7 , 0.2 ],\n",
       "       [0.9 , 0.1 ],\n",
       "       [0.98, 0.06]])"
      ]
     },
     "execution_count": 101,
     "metadata": {},
     "output_type": "execute_result"
    }
   ],
   "source": [
    "# First, let's make some mock pareto sets\n",
    "pf1 = np.array([\n",
    "    [0.1, 0.9],\n",
    "    [0.15, 0.88],\n",
    "    [0.22, 0.7],\n",
    "    [0.3, 0.6],\n",
    "    [0.38, 0.56],\n",
    "    [0.42, 0.55],\n",
    "    [0.5, 0.5],\n",
    "    [0.6, 0.4],\n",
    "    [0.7, 0.2],\n",
    "    [0.9, 0.1],\n",
    "    [0.98, 0.06],\n",
    "])\n",
    "pf2 = np.array([\n",
    "    [0.05, 0.95],\n",
    "    [0.2, 0.88],\n",
    "    [0.25, 0.85],\n",
    "    [0.3, 0.6],\n",
    "    [0.4, 0.5],\n",
    "    [0.7, 0.3],\n",
    "    [0.9, 0.02]\n",
    "])\n",
    "pf3 = np.array([\n",
    "    [0.07, 0.98],\n",
    "    [0.15, 0.9],\n",
    "    [0.2, 0.8],\n",
    "    [0.3, 0.75],\n",
    "    [0.45, 0.7],\n",
    "    [0.65, 0.48],\n",
    "    [0.82, 0.22],\n",
    "    [0.93, 0.2],\n",
    "])\n",
    "# If we need to, we can sort data in this format like this:\n",
    "np.random.shuffle(pf1)\n",
    "pf1 = pf1[pf1[:,0].argsort()]\n",
    "pf1\n"
   ]
  },
  {
   "cell_type": "code",
   "execution_count": 103,
   "metadata": {},
   "outputs": [],
   "source": [
    "# Store all of them in a list.\n",
    "# Each set may have a different size, and numpy arrays cannot be jagged\n",
    "# Therefore, we collect them in a list instead of an np array\n",
    "pareto_sets = [pf1, pf2, pf3]"
   ]
  },
  {
   "cell_type": "code",
   "execution_count": null,
   "metadata": {},
   "outputs": [],
   "source": []
  },
  {
   "cell_type": "code",
   "execution_count": 104,
   "metadata": {},
   "outputs": [],
   "source": [
    "# Let's define a function for getting the line segments\n",
    "# of the attainment surface\n",
    "def attainment_lines(pareto_set, x_max, y_max):\n",
    "    n_points = pareto_set.shape[0]\n",
    "    \n",
    "    # Each line segment is defined by a 2x2 array:\n",
    "    # [[x1, y1], [x2, y2]]\n",
    "    lines = np.empty((n_points * 2, 2, 2))\n",
    "\n",
    "    # Collect all horizontal lines in the odd indices\n",
    "    for i in range(n_points - 1):\n",
    "        idx = 2 * i + 1\n",
    "        start = pareto_set[i][0]\n",
    "        stop = pareto_set[i + 1][0]\n",
    "        y = pareto_set[i][1]\n",
    "        lines[idx, :, 0] = start, stop\n",
    "        lines[idx, :, 1] = y\n",
    "\n",
    "    # And put the vertical line segments in the even indices.\n",
    "    for i in range(n_points - 1):\n",
    "        idx = 2 * i + 2\n",
    "        start = pareto_set[i][1]\n",
    "        stop = pareto_set[i + 1][1]\n",
    "        x = pareto_set[i + 1][0]\n",
    "        lines[idx, :, 0] = x\n",
    "        lines[idx, :, 1] = start, stop\n",
    "        \n",
    "    # Finally, draw the line segments from the most extreme points\n",
    "    # to the edges of the graph\n",
    "    lines[0] = np.array([pareto_set[0,0], y_max,\n",
    "                         pareto_set[0,0], pareto_set[0,1]]).reshape((2, 2))\n",
    "    lines[-1] = np.array([pareto_set[-1, 0], pareto_set[-1, 1],\n",
    "                          x_max, pareto_set[-1, 1]]).reshape((2, 2))\n",
    "    return lines"
   ]
  },
  {
   "cell_type": "code",
   "execution_count": 110,
   "metadata": {},
   "outputs": [
    {
     "data": {
      "image/png": "[encoded data removed]",
      "text/plain": [
       "<Figure size 576x576 with 1 Axes>"
      ]
     },
     "metadata": {
      "needs_background": "light"
     },
     "output_type": "display_data"
    }
   ],
   "source": [
    "# Let's look at the attainment surface of the first pareto set\n",
    "x_max = 1.0\n",
    "y_max = 1.0\n",
    "fig, axs = plt.subplots(1, 1, figsize=(8, 8))\n",
    "axs.set_xlim(0, x_max)\n",
    "axs.set_ylim(0, y_max)\n",
    "collection = LineCollection(attainment_lines(pareto_sets[0], x_max, y_max), color='k')\n",
    "axs.add_collection(collection)\n",
    "axs.scatter(x=pareto_sets[0][:,0], y=pareto_sets[0][:,1], color='k', s=120)\n",
    "\n",
    "# axs[1].set_xlim(0, x_max)\n",
    "# axs[1].set_ylim(0, y_max)\n",
    "# colors=['blue', 'red', 'green']\n",
    "# for i in range(3):\n",
    "#     collection = LineCollection(attainment_lines(pareto_sets[i], x_max, y_max), color=colors[i])\n",
    "#     axs[1].add_collection(collection)\n",
    "#     axs[1].scatter(x=pareto_sets[i][:,0], y=pareto_sets[i][:,1], color=colors[i], s=120)\n",
    "\n",
    "plt.show()"
   ]
  },
  {
   "cell_type": "code",
   "execution_count": null,
   "metadata": {},
   "outputs": [],
   "source": [
    "# Let's look at the attainment surface of the first pareto set\n",
    "x_max = 1.0\n",
    "y_max = 1.0\n",
    "fig, axs = plt.subplots(1, 2, figsize=(12, 4))\n",
    "axs[0].set_xlim(0, x_max)\n",
    "axs[0].set_ylim(0, y_max)\n",
    "collection = LineCollection(attainment_lines(pareto_sets[0], x_max, y_max), color='blue')\n",
    "axs[0].add_collection(collection)\n",
    "axs[0].scatter(x=pareto_sets[0][:,0], y=pareto_sets[0][:,1], color='blue')\n",
    "\n",
    "axs[1].set_xlim(0, x_max)\n",
    "axs[1].set_ylim(0, y_max)\n",
    "colors=['blue', 'red', 'green']\n",
    "for i in range(3):\n",
    "    collection = LineCollection(attainment_lines(pareto_sets[i], x_max, y_max), color=colors[i])\n",
    "    axs[1].add_collection(collection)\n",
    "    axs[1].scatter(x=pareto_sets[i][:,0], y=pareto_sets[i][:,1], color=colors[i])\n",
    "\n",
    "\n",
    "plt.show()"
   ]
  },
  {
   "cell_type": "code",
   "execution_count": 70,
   "metadata": {},
   "outputs": [],
   "source": [
    "# Calculate the point where a line \n",
    "# Returns a size 3 vector: [x, y, dist], where dist is the cartesian distance\n",
    "# from the y-intercept to the intersection on the attainment surface.\n",
    "# If the lines do not intersect, the result is [np.inf, np.inf, np.inf]\n",
    "def get_intersect(attainment_lines, slope, intercept):\n",
    "    copy = attainment_lines.copy()\n",
    "    \n",
    "    # Let x1, y1, x2, y2 be coordinates of the line segment\n",
    "    # Let f(x) = mx + b.  If f(x1) <= y1, and f(x2) >= y2, the lines must have intersected\n",
    "    # Once we've identified the line segment which hit, we can easily calculate the position\n",
    "    # This assumes 0 < m < inf\n",
    "    copy[:, :, 0] = (copy[:, :, 0] * slope) + intercept\n",
    "    hit_left = copy[:, 0, 0] <= copy[:, 0, 1]\n",
    "    hit_right = copy[:, 1, 0] >= copy[:, 1, 1]\n",
    "    hit = attainment_lines[hit_left & hit_right]\n",
    "    \n",
    "    if hit.shape[0] == 0:\n",
    "        return np.array([np.inf, np.inf, np.inf])\n",
    "    \n",
    "    # Take the first one.  There will only be multiple values if the line crossed\n",
    "    # right at the corner of two line segments - in which case, either one works\n",
    "    hit = hit[0]\n",
    "    \n",
    "    if hit[0,1] == hit[1,1]:\n",
    "        # Y values are the same, so the segment is horizontal\n",
    "        y = hit[0,1]\n",
    "        x = (y - intercept) / slope\n",
    "    elif hit[0,0] == hit[1,0]:\n",
    "        # X values are the same, so it should be a vertical segment\n",
    "        x = hit[0,0]\n",
    "        y = (slope * x) + intercept\n",
    "    y_intercept = np.array([0, intercept])\n",
    "    dist = np.linalg.norm(np.array([x, y]) - y_intercept)\n",
    "    return np.array([x, y, dist])\n"
   ]
  },
  {
   "cell_type": "code",
   "execution_count": 111,
   "metadata": {},
   "outputs": [
    {
     "data": {
      "image/png": "[encoded data removed]",
      "text/plain": [
       "<Figure size 576x576 with 1 Axes>"
      ]
     },
     "metadata": {
      "needs_background": "light"
     },
     "output_type": "display_data"
    }
   ],
   "source": [
    "# If we draw various arbitrary lines with positive slopes, many of them will intersect with the attainment surface\n",
    "x_max = 1.0\n",
    "y_max = 1.0\n",
    "fig, ax = plt.subplots(figsize=(8,8))\n",
    "ax.set_xlim(0, x_max)\n",
    "ax.set_ylim(0, y_max)\n",
    "collection = LineCollection(attainment_lines(pareto_sets[0], x_max, y_max), color='blue')\n",
    "ax.add_collection(collection)\n",
    "for slope in np.power(np.linspace(0.35, 1.7, 8), 4):\n",
    "    ax.axline((0,0), slope=slope, linestyle='dashed', color='red')\n",
    "    hit = get_intersect(attainment_lines(pareto_sets[0], x_max, y_max), slope, 0)\n",
    "    if not np.isinf(hit[0]):\n",
    "        ax.scatter(x=hit[0], y=hit[1], color='red')\n",
    "plt.show()"
   ]
  },
  {
   "cell_type": "markdown",
   "metadata": {},
   "source": [
    "Now suppose we have many pareto sets, representing different runs of the same algorithm. Any given line is going to cross through some or all of the attainment surfaces.\n",
    "\n",
    "Imagine the line crosses through every surface: The last point it crosses through represents an objective-space vector whose solution was found in every single run.  Likewise, the corersponding solution for the first point crossed was only found in one solution.\n",
    "\n",
    "We can take the median point for every line to achieve the median attainment surface.  We can also use this process to find the attainment surface for any other quantile."
   ]
  },
  {
   "cell_type": "markdown",
   "metadata": {},
   "source": [
    "If we use many lines, with various slopes and y-intercepts, we can get good coverage across all of the attainment surfaces.\n",
    "\n",
    "Each dot represents where a line has intersected with the various attainment surfaces."
   ]
  },
  {
   "cell_type": "code",
   "execution_count": 114,
   "metadata": {},
   "outputs": [
    {
     "data": {
      "text/plain": [
       "<matplotlib.collections.LineCollection at 0x23523cceeb0>"
      ]
     },
     "execution_count": 114,
     "metadata": {},
     "output_type": "execute_result"
    },
    {
     "data": {
      "image/png": "[encoded data removed]",
      "text/plain": [
       "<Figure size 576x1152 with 2 Axes>"
      ]
     },
     "metadata": {
      "needs_background": "light"
     },
     "output_type": "display_data"
    }
   ],
   "source": [
    "hits = np.empty((3000, 3, 3))\n",
    "colors=['blue', 'red', 'green']\n",
    "fig, ax = plt.subplots(2, 1, figsize=(8, 16))\n",
    "ax[0].set_xlim(0, x_max)\n",
    "ax[0].set_ylim(0, y_max)\n",
    "for i in range(3):\n",
    "    hit_idx = 0\n",
    "    for slope in np.power(np.linspace(0.35, 1.8, 20), 4):\n",
    "        for x_shift in np.linspace(-0.2, 0.9, 10):\n",
    "            for y_shift in np.linspace(-0.5, 0.85, 15):\n",
    "                intercept = y_shift - x_shift * slope\n",
    "                \n",
    "                if hit_idx in [500, 1120, 2100]:\n",
    "                    ax[0].axline((0, intercept), slope=slope, color='black', linestyle='dashed')\n",
    "                    ax[1].axline((0, intercept), slope=slope, color='black', linestyle='dashed')\n",
    "                                    \n",
    "                hit = get_intersect(attainment_lines(pareto_sets[i], x_max, y_max), slope, intercept)\n",
    "                hits[hit_idx,i] = hit\n",
    "                hit_idx += 1\n",
    "    non_null = hits[:,i][~np.isinf(hits[:,i,0])]\n",
    "    ax[0].scatter(x=non_null[:,0], y=non_null[:,1], s=2, color=colors[i])\n",
    "    ax[1].add_collection(LineCollection(attainment_lines(pareto_sets[i], 1.0, 1.0), color=colors[i], linestyle='dotted'))\n",
    "    ax[1].scatter(x=pareto_sets[i][:,0], y=pareto_sets[i][:,1], color=colors[i])\n",
    "    \n",
    "medians = np.median(hits, axis=1)\n",
    "non_null = medians[~np.isinf(medians[:,0])]\n",
    "sort = pd.DataFrame(non_null).sort_values(by=[0,1], ascending=[True, False]).to_numpy()\n",
    "\n",
    "lines = attainment_lines(sort, x_max, y_max)\n",
    "\n",
    "ax[1].set_xlim(0, x_max)\n",
    "ax[1].set_ylim(0, y_max)\n",
    "\n",
    "\n",
    "collection = LineCollection(lines, color='black')\n",
    "ax[1].add_collection(collection)\n"
   ]
  },
  {
   "cell_type": "code",
   "execution_count": null,
   "metadata": {},
   "outputs": [],
   "source": []
  },
  {
   "cell_type": "code",
   "execution_count": 316,
   "metadata": {},
   "outputs": [
    {
     "data": {
      "text/plain": [
       "<matplotlib.collections.PathCollection at 0x1b61ac89c10>"
      ]
     },
     "execution_count": 316,
     "metadata": {},
     "output_type": "execute_result"
    },
    {
     "data": {
      "image/png": "[encoded data removed]",
      "text/plain": [
       "<Figure size 432x288 with 1 Axes>"
      ]
     },
     "metadata": {
      "needs_background": "light"
     },
     "output_type": "display_data"
    }
   ],
   "source": [
    "a, b, c = 3, 3, 3\n",
    "\n",
    "hits = np.empty((a*b*c, 3, 3))\n",
    "colors=['blue', 'red', 'green']\n",
    "fig, ax = plt.subplots()\n",
    "ax.set_xlim(0, x_max)\n",
    "ax.set_ylim(0, y_max)\n",
    "for i in range(3):\n",
    "    hit_idx = 0\n",
    "    for slope in np.power(np.linspace(0.35, 1.8, a), 4):\n",
    "        for x_shift in np.linspace(-0.2, 0.9, b):\n",
    "            for y_shift in np.linspace(-0.5, 0.85, c):\n",
    "                intercept = y_shift - x_shift * slope\n",
    "#                 if hit_idx == 1100:\n",
    "#                     plt.axline((0, intercept), slope=slope, color='black', linestyle='dashed')\n",
    "#                     print(slope)\n",
    "#                     print(intercept)\n",
    "                \n",
    "                hit = get_intersect(attainment_lines(pareto_sets[i], x_max, y_max), slope, intercept)\n",
    "                hits[hit_idx,i] = hit\n",
    "                hit_idx += 1\n",
    "    non_null = hits[:,i][~np.isinf(hits[:,i,0])]\n",
    "    ax.scatter(x=non_null[:,0], y=non_null[:,1], s=2, color=colors[i])\n",
    "medians = np.median(hits, axis=1)\n",
    "non_null = medians[~np.isinf(medians[:,0])]\n",
    "ax.scatter(x=non_null[:,0], y=non_null[:,1], s=2, color='black')"
   ]
  },
  {
   "cell_type": "code",
   "execution_count": 311,
   "metadata": {},
   "outputs": [
    {
     "data": {
      "text/plain": [
       "<matplotlib.collections.LineCollection at 0x1b61ab29e20>"
      ]
     },
     "execution_count": 311,
     "metadata": {},
     "output_type": "execute_result"
    },
    {
     "data": {
      "image/png": "[encoded data removed]",
      "text/plain": [
       "<Figure size 432x288 with 1 Axes>"
      ]
     },
     "metadata": {
      "needs_background": "light"
     },
     "output_type": "display_data"
    }
   ],
   "source": [
    "medians = np.median(hits, axis=1)\n",
    "non_null = medians[~np.isinf(medians[:,0])]\n",
    "\n",
    "sorty = non_null[non_null[:,0].argsort()][:,:2]\n",
    "\n",
    "lines = attainment_lines(sorty, x_max, y_max)\n",
    "\n",
    "fig, ax = plt.subplots()\n",
    "ax.set_xlim(0, x_max)\n",
    "ax.set_ylim(0, y_max)\n",
    "\n",
    "\n",
    "collection = LineCollection(lines, color='black')\n",
    "ax.add_collection(collection)\n"
   ]
  },
  {
   "cell_type": "code",
   "execution_count": 331,
   "metadata": {},
   "outputs": [
    {
     "data": {
      "text/plain": [
       "array([[0.22      , 0.85630262],\n",
       "       [0.22      , 0.84804919],\n",
       "       [0.22      , 0.83979575],\n",
       "       [0.26800033, 0.8       ],\n",
       "       [0.3       , 0.78322654],\n",
       "       [0.32618503, 0.6       ],\n",
       "       [0.39048544, 0.6       ],\n",
       "       [0.45002286, 0.55      ],\n",
       "       [0.54880053, 0.5       ],\n",
       "       [0.59336017, 0.5       ],\n",
       "       [0.63791981, 0.5       ],\n",
       "       [0.83998628, 0.22      ],\n",
       "       [0.88913638, 0.22      ],\n",
       "       [0.9       , 0.175     ],\n",
       "       [0.9       , 0.175     ],\n",
       "       [0.9       , 0.18325344],\n",
       "       [0.9       , 0.175     ],\n",
       "       [0.9       , 0.19150688],\n",
       "       [0.95715592, 0.1       ]])"
      ]
     },
     "execution_count": 331,
     "metadata": {},
     "output_type": "execute_result"
    }
   ],
   "source": [
    "sorty"
   ]
  },
  {
   "cell_type": "code",
   "execution_count": 279,
   "metadata": {},
   "outputs": [
    {
     "data": {
      "text/plain": [
       "(3000, 3)"
      ]
     },
     "execution_count": 279,
     "metadata": {},
     "output_type": "execute_result"
    }
   ],
   "source": [
    "medians.shape"
   ]
  },
  {
   "cell_type": "code",
   "execution_count": 189,
   "metadata": {},
   "outputs": [
    {
     "data": {
      "text/plain": [
       "(1543, 3)"
      ]
     },
     "execution_count": 189,
     "metadata": {},
     "output_type": "execute_result"
    }
   ],
   "source": [
    "non_null.shape"
   ]
  },
  {
   "cell_type": "code",
   "execution_count": 200,
   "metadata": {},
   "outputs": [
    {
     "data": {
      "text/plain": [
       "array([[0.98      , 0.07966578],\n",
       "       [0.82      , 0.22385422],\n",
       "       [0.7       , 0.36810667],\n",
       "       ...,\n",
       "       [0.87226879, 0.22      ],\n",
       "       [0.85850903, 0.22      ],\n",
       "       [0.84474928, 0.22      ]])"
      ]
     },
     "execution_count": 200,
     "metadata": {},
     "output_type": "execute_result"
    }
   ],
   "source": [
    "non_null[:, :2]"
   ]
  },
  {
   "cell_type": "code",
   "execution_count": 204,
   "metadata": {},
   "outputs": [],
   "source": [
    "def nondominated_set(array):\n",
    "    pass"
   ]
  },
  {
   "cell_type": "code",
   "execution_count": 282,
   "metadata": {},
   "outputs": [
    {
     "data": {
      "text/plain": [
       "array([[0.9  , 0.175],\n",
       "       [0.9  , 0.175],\n",
       "       [  inf,   inf]])"
      ]
     },
     "execution_count": 282,
     "metadata": {},
     "output_type": "execute_result"
    }
   ],
   "source": [
    "u, c = np.unique(medians[:,:2], return_counts=True, axis=0)\n",
    "u[c > 1]"
   ]
  },
  {
   "cell_type": "code",
   "execution_count": 284,
   "metadata": {},
   "outputs": [
    {
     "data": {
      "text/plain": [
       "array([  1,   1,   1, ...,   1,   1, 622], dtype=int64)"
      ]
     },
     "execution_count": 284,
     "metadata": {},
     "output_type": "execute_result"
    }
   ],
   "source": [
    "aa = u[c > 1][0]\n",
    "c"
   ]
  },
  {
   "cell_type": "code",
   "execution_count": 285,
   "metadata": {},
   "outputs": [
    {
     "data": {
      "text/plain": [
       "(array([   7,   22,   37,   52,   67,   82,   97,  112,  127,  142,  156,\n",
       "         157,  171,  172,  186,  187,  201,  202,  217,  232,  247,  262,\n",
       "         277,  292,  306,  321,  336,  351,  366,  367,  381,  382,  396,\n",
       "         397,  412,  427,  442,  455,  456,  471,  486,  501,  516,  531,\n",
       "         546,  547,  561,  562,  577,  592,  605,  620,  635,  650,  651,\n",
       "         666,  681,  696,  711,  726,  727,  742,  753,  754,  769,  784,\n",
       "         800,  815,  830,  831,  846,  861,  876,  877,  892,  902,  917,\n",
       "         918,  933,  948,  949,  964,  980,  995, 1011, 1026, 1042, 1050,\n",
       "        1066, 1081, 1082, 1097, 1113, 1129, 1144, 1145, 1160, 1176, 1192,\n",
       "        1245, 1261, 1262, 1277, 1278, 1293, 1294, 1310, 1326, 1342, 1410,\n",
       "        1426, 1442, 1443, 1459, 1475, 1476, 1492, 1591, 1608, 1625, 1642,\n",
       "        1757, 1774, 1792, 1905, 1923, 1924, 1942, 1942, 2073, 2092, 2222,\n",
       "        2242, 2242, 2370, 2371, 2392, 2392, 2542, 2542, 2692, 2692, 2842,\n",
       "        2842, 2992], dtype=int64),\n",
       " array([0, 0, 0, 0, 0, 0, 0, 0, 0, 0, 0, 0, 0, 0, 0, 0, 0, 0, 0, 0, 0, 0,\n",
       "        0, 0, 0, 0, 0, 0, 0, 0, 0, 0, 0, 0, 0, 0, 0, 0, 0, 0, 0, 0, 0, 0,\n",
       "        0, 0, 0, 0, 0, 0, 0, 0, 0, 0, 0, 0, 0, 0, 0, 0, 0, 0, 0, 0, 0, 0,\n",
       "        0, 0, 0, 0, 0, 0, 0, 0, 0, 0, 0, 0, 0, 0, 0, 0, 0, 0, 0, 0, 0, 0,\n",
       "        0, 0, 0, 0, 0, 0, 0, 0, 0, 0, 0, 0, 0, 0, 0, 0, 0, 0, 0, 0, 0, 0,\n",
       "        0, 0, 0, 0, 0, 0, 0, 0, 0, 0, 0, 0, 0, 0, 0, 0, 0, 0, 1, 0, 0, 0,\n",
       "        0, 1, 0, 0, 0, 1, 0, 1, 0, 1, 0, 1, 0], dtype=int64))"
      ]
     },
     "execution_count": 285,
     "metadata": {},
     "output_type": "execute_result"
    }
   ],
   "source": [
    "np.where(medians[:,:2] == aa)"
   ]
  },
  {
   "cell_type": "code",
   "execution_count": 286,
   "metadata": {},
   "outputs": [
    {
     "data": {
      "text/plain": [
       "array([0.9  , 0.175])"
      ]
     },
     "execution_count": 286,
     "metadata": {},
     "output_type": "execute_result"
    }
   ],
   "source": [
    "aa"
   ]
  },
  {
   "cell_type": "code",
   "execution_count": 287,
   "metadata": {},
   "outputs": [
    {
     "data": {
      "text/plain": [
       "array([[0.9       , 0.19150688, 0.90010133],\n",
       "       [0.9       , 0.19150688, 0.90010133],\n",
       "       [       inf,        inf,        inf]])"
      ]
     },
     "execution_count": 287,
     "metadata": {},
     "output_type": "execute_result"
    }
   ],
   "source": [
    "hits[7]"
   ]
  },
  {
   "cell_type": "code",
   "execution_count": 289,
   "metadata": {},
   "outputs": [
    {
     "data": {
      "text/plain": [
       "array([[0.9       , 0.18967278, 0.90010133],\n",
       "       [0.9       , 0.18967278, 0.90010133],\n",
       "       [       inf,        inf,        inf]])"
      ]
     },
     "execution_count": 289,
     "metadata": {},
     "output_type": "execute_result"
    }
   ],
   "source": [
    "hits[22]"
   ]
  },
  {
   "cell_type": "code",
   "execution_count": 261,
   "metadata": {},
   "outputs": [
    {
     "data": {
      "text/plain": [
       "array([0.0016    , 0.79953778])"
      ]
     },
     "execution_count": 261,
     "metadata": {},
     "output_type": "execute_result"
    }
   ],
   "source": [
    "sint[49]"
   ]
  },
  {
   "cell_type": "code",
   "execution_count": 262,
   "metadata": {},
   "outputs": [
    {
     "data": {
      "text/plain": [
       "array([0.0065247 , 0.79811509])"
      ]
     },
     "execution_count": 262,
     "metadata": {},
     "output_type": "execute_result"
    }
   ],
   "source": [
    "sint[149]"
   ]
  },
  {
   "cell_type": "code",
   "execution_count": 235,
   "metadata": {},
   "outputs": [
    {
     "data": {
      "text/plain": [
       "array([[0.0016, 0.0016],\n",
       "       [0.0016, 0.0016]])"
      ]
     },
     "execution_count": 235,
     "metadata": {},
     "output_type": "execute_result"
    }
   ],
   "source": [
    "sint[:2]"
   ]
  },
  {
   "cell_type": "code",
   "execution_count": 295,
   "metadata": {},
   "outputs": [
    {
     "data": {
      "text/plain": [
       "array([[0.19343304, 0.9       , 0.19669277],\n",
       "       [0.19730878, 0.9       , 0.23125003],\n",
       "       [0.19859193, 0.9       , 0.26079587],\n",
       "       [0.17700864, 0.9       , 0.27052084],\n",
       "       [0.17114407, 0.9       , 0.26155806],\n",
       "       [0.19923105, 0.9       , 0.3650614 ],\n",
       "       [0.18805522, 0.9       , 0.42080601],\n",
       "       [0.19164426, 0.9       , 0.42883712],\n",
       "       [0.1951067 , 0.9       , 0.53752151],\n",
       "       [0.17661042, 0.9       , 0.48656402],\n",
       "       [0.18614376, 0.9       , 0.5128285 ],\n",
       "       [0.17205946, 0.9       , 0.58415921],\n",
       "       [0.17539878, 0.9       , 0.59549653],\n",
       "       [0.1787381 , 0.9       , 0.60683385],\n",
       "       [0.18207741, 0.9       , 0.61817117],\n",
       "       [0.19662069, 0.9       , 0.8198118 ],\n",
       "       [0.17279832, 0.9       , 0.72048418],\n",
       "       [0.19973104, 0.9       , 0.83278042],\n",
       "       [0.17590866, 0.9       , 0.7334528 ],\n",
       "       [0.17901901, 0.9       , 0.74642142],\n",
       "       [0.18336371, 0.9       , 0.93350448],\n",
       "       [0.18968204, 0.9       , 0.96567109],\n",
       "       [0.17036472, 0.9       , 0.86732665],\n",
       "       [0.19600037, 0.9       , 0.99783769],\n",
       "       [0.17668305, 0.9       , 0.89949326],\n",
       "       [0.19510937, 0.9       , 1.20452162],\n",
       "       [0.17928076, 0.9       , 1.10680256],\n",
       "       [0.1907027 , 0.9       , 1.17731677],\n",
       "       [0.17487409, 0.9       , 1.07959771],\n",
       "       [0.19525766, 0.9       , 1.45123577],\n",
       "       [0.18216455, 0.9       , 1.35392236],\n",
       "       [0.1996419 , 0.9       , 1.48382126],\n",
       "       [0.1865488 , 0.9       , 1.38650785],\n",
       "       [0.17345569, 0.9       , 1.28919445],\n",
       "       [0.19211844, 0.9       , 1.70674581],\n",
       "       [0.18119461, 0.9       , 1.60970047],\n",
       "       [0.17027078, 0.9       , 1.51265512],\n",
       "       [0.19417853, 0.9       , 1.72504734],\n",
       "       [0.1832547 , 0.9       , 1.62800199],\n",
       "       [0.17233087, 0.9       , 1.53095664],\n",
       "       [0.17780826, 0.9       , 1.87500987],\n",
       "       [0.19898698, 0.9       , 2.09834205],\n",
       "       [0.18980121, 0.9       , 2.00147695],\n",
       "       [0.18061543, 0.9       , 1.90461184],\n",
       "       [0.17142966, 0.9       , 1.80774674]])"
      ]
     },
     "execution_count": 295,
     "metadata": {},
     "output_type": "execute_result"
    }
   ],
   "source": [
    "medians[(medians[:,0] > 0.17) & (medians[:,0] < .2)]"
   ]
  },
  {
   "cell_type": "code",
   "execution_count": 296,
   "metadata": {},
   "outputs": [
    {
     "data": {
      "text/plain": [
       "(array([ 629,  944, 1062, 1078, 1211, 1360, 1393, 1559, 1657, 1674, 1692,\n",
       "        1709, 1804, 1805, 1823, 1841, 1859, 1952, 1971, 1990, 2009, 2118,\n",
       "        2119, 2138, 2139, 2140, 2159, 2266, 2267, 2287, 2288, 2289, 2308,\n",
       "        2309, 2415, 2435, 2436, 2437, 2458, 2459, 2583, 2584, 2585, 2586,\n",
       "        2607, 2608, 2609, 2731, 2732, 2733, 2734, 2757, 2758, 2759, 2880,\n",
       "        2881, 2882, 2883, 2906, 2907, 2908, 2909], dtype=int64),)"
      ]
     },
     "execution_count": 296,
     "metadata": {},
     "output_type": "execute_result"
    }
   ],
   "source": [
    "np.where(medians[:,1] == 0.9)"
   ]
  },
  {
   "cell_type": "code",
   "execution_count": 299,
   "metadata": {},
   "outputs": [
    {
     "data": {
      "text/plain": [
       "array([[0.15      , 0.89199275, 0.1525278 ],\n",
       "       [0.2       , 0.90121068, 0.2033704 ],\n",
       "       [0.19343304, 0.9       , 0.19669277]])"
      ]
     },
     "execution_count": 299,
     "metadata": {},
     "output_type": "execute_result"
    }
   ],
   "source": [
    "hits[629]"
   ]
  },
  {
   "cell_type": "code",
   "execution_count": 300,
   "metadata": {},
   "outputs": [
    {
     "data": {
      "text/plain": [
       "array([[0.15      , 0.89496765, 0.16304413],\n",
       "       [0.2       , 0.91626812, 0.21739218],\n",
       "       [0.16181276, 0.9       , 0.17588414]])"
      ]
     },
     "execution_count": 300,
     "metadata": {},
     "output_type": "execute_result"
    }
   ],
   "source": [
    "hits[944]"
   ]
  },
  {
   "cell_type": "code",
   "execution_count": 351,
   "metadata": {},
   "outputs": [
    {
     "data": {
      "text/plain": [
       "<matplotlib.collections.PathCollection at 0x1b61c87a370>"
      ]
     },
     "execution_count": 351,
     "metadata": {},
     "output_type": "execute_result"
    },
    {
     "data": {
      "image/png": "[encoded data removed]",
      "text/plain": [
       "<Figure size 432x288 with 1 Axes>"
      ]
     },
     "metadata": {
      "needs_background": "light"
     },
     "output_type": "display_data"
    }
   ],
   "source": [
    "a, b, c = 3, 3, 3\n",
    "\n",
    "hits = np.empty((a*b*c, 3, 3))\n",
    "colors=['blue', 'red', 'green']\n",
    "fig, ax = plt.subplots()\n",
    "ax.set_xlim(0, 1)\n",
    "ax.set_ylim(0, 1)\n",
    "\n",
    "lines = [attainment_lines(i, 1.0, 1.0) for i in pareto_sets]\n",
    "\n",
    "for i in range(3):\n",
    "    hit_idx = 0\n",
    "    for slope in np.power(np.linspace(0.35, 1.8, a), 4):\n",
    "        for x_shift in np.linspace(-0.2, 0.9, b):\n",
    "            for y_shift in np.linspace(-0.5, 0.85, c):\n",
    "                intercept = y_shift - x_shift * slope                \n",
    "                hit = get_intersect(attainment_lines(pareto_sets[i], x_max, y_max), slope, intercept)\n",
    "                hits[hit_idx,i] = hit\n",
    "                hit_idx += 1\n",
    "                \n",
    "                if hit_idx in [2, 5, 8, 17]:\n",
    "                    ax.axline((0, intercept), slope=slope, linestyle='dashed')\n",
    "                \n",
    "                            \n",
    "    non_null = hits[:,i][~np.isinf(hits[:,i,0])]\n",
    "    ax.scatter(x=non_null[:,0], y=non_null[:,1], s=2, color=colors[i])\n",
    "    \n",
    "    collection = LineCollection(lines[i], color=colors[i])\n",
    "    ax.add_collection(collection)\n",
    "    \n",
    "medians = np.median(hits, axis=1)\n",
    "non_null = medians[~np.isinf(medians[:,0])]\n",
    "\n",
    "ax.scatter(x=non_null[:,0], y=non_null[:,1], s=2, color='black')"
   ]
  },
  {
   "cell_type": "code",
   "execution_count": 344,
   "metadata": {},
   "outputs": [
    {
     "data": {
      "text/plain": [
       "array([[0.22      , 0.85630262],\n",
       "       [0.22      , 0.84804919],\n",
       "       [0.22      , 0.83979575],\n",
       "       [0.26800033, 0.8       ],\n",
       "       [0.3       , 0.78322654],\n",
       "       [0.32618503, 0.6       ],\n",
       "       [0.39048544, 0.6       ],\n",
       "       [0.45002286, 0.55      ],\n",
       "       [0.54880053, 0.5       ],\n",
       "       [0.59336017, 0.5       ],\n",
       "       [0.63791981, 0.5       ],\n",
       "       [0.83998628, 0.22      ],\n",
       "       [0.88913638, 0.22      ],\n",
       "       [0.9       , 0.175     ],\n",
       "       [0.9       , 0.175     ],\n",
       "       [0.9       , 0.18325344],\n",
       "       [0.9       , 0.175     ],\n",
       "       [0.9       , 0.19150688],\n",
       "       [0.95715592, 0.1       ]])"
      ]
     },
     "execution_count": 344,
     "metadata": {},
     "output_type": "execute_result"
    }
   ],
   "source": [
    "sorty"
   ]
  },
  {
   "cell_type": "code",
   "execution_count": 352,
   "metadata": {},
   "outputs": [
    {
     "data": {
      "text/plain": [
       "array([[ 0.9       ,  0.19150688,  0.90010133],\n",
       "       [ 0.22      ,  0.85630262,  0.22002477],\n",
       "       [ 0.9       ,  0.18325344,  0.90010133],\n",
       "       [ 0.22      ,  0.84804919,  0.22002477],\n",
       "       [ 0.9       ,  0.175     ,  0.90010133],\n",
       "       [ 0.22      ,  0.83979575,  0.22002477],\n",
       "       [ 0.54880053,  0.5       ,  0.91560553],\n",
       "       [ 0.26800033,  0.8       ,  0.44712527],\n",
       "       [ 0.88913638,  0.22      ,  1.48341363],\n",
       "       [ 0.59336017,  0.5       ,  0.98994775],\n",
       "       [ 0.3       ,  0.78322654,  0.50051274],\n",
       "       [ 0.9       ,  0.175     ,  1.50153822],\n",
       "       [ 0.63791981,  0.5       ,  1.06428998],\n",
       "       [ 0.45002286,  0.55      ,  4.74554615],\n",
       "       [ 0.39048544,  0.6       ,  4.11771679],\n",
       "       [ 0.32618503,  0.6       ,  3.43966109],\n",
       "       [ 0.95715592,  0.1       , 10.09332632],\n",
       "       [ 0.9       ,  0.175     ,  9.49061013],\n",
       "       [ 0.83998628,  0.22      ,  8.85775814]])"
      ]
     },
     "execution_count": 352,
     "metadata": {},
     "output_type": "execute_result"
    }
   ],
   "source": [
    "non_null"
   ]
  },
  {
   "cell_type": "code",
   "execution_count": 361,
   "metadata": {},
   "outputs": [],
   "source": []
  },
  {
   "cell_type": "code",
   "execution_count": 378,
   "metadata": {},
   "outputs": [],
   "source": [
    "sorty = pd.DataFrame(non_null).sort_values(by=[0,1], ascending=[True, False]).to_numpy()"
   ]
  },
  {
   "cell_type": "code",
   "execution_count": 380,
   "metadata": {},
   "outputs": [
    {
     "data": {
      "text/plain": [
       "<matplotlib.collections.LineCollection at 0x1b61ea61b50>"
      ]
     },
     "execution_count": 380,
     "metadata": {},
     "output_type": "execute_result"
    },
    {
     "data": {
      "image/png": "[encoded data removed]",
      "text/plain": [
       "<Figure size 432x288 with 1 Axes>"
      ]
     },
     "metadata": {
      "needs_background": "light"
     },
     "output_type": "display_data"
    }
   ],
   "source": [
    "medians = np.median(hits, axis=1)\n",
    "non_null = medians[~np.isinf(medians[:,0])]\n",
    "\n",
    "lines = attainment_lines(sorty[:,:2], x_max, y_max)\n",
    "\n",
    "fig, ax = plt.subplots()\n",
    "ax.set_xlim(0, x_max)\n",
    "ax.set_ylim(0, y_max)\n",
    "\n",
    "\n",
    "collection = LineCollection(lines, color='black')\n",
    "ax.add_collection(collection)\n"
   ]
  },
  {
   "cell_type": "code",
   "execution_count": 379,
   "metadata": {},
   "outputs": [
    {
     "data": {
      "text/plain": [
       "array([[ 0.22      ,  0.85630262,  0.22002477],\n",
       "       [ 0.22      ,  0.84804919,  0.22002477],\n",
       "       [ 0.22      ,  0.83979575,  0.22002477],\n",
       "       [ 0.26800033,  0.8       ,  0.44712527],\n",
       "       [ 0.3       ,  0.78322654,  0.50051274],\n",
       "       [ 0.32618503,  0.6       ,  3.43966109],\n",
       "       [ 0.39048544,  0.6       ,  4.11771679],\n",
       "       [ 0.45002286,  0.55      ,  4.74554615],\n",
       "       [ 0.54880053,  0.5       ,  0.91560553],\n",
       "       [ 0.59336017,  0.5       ,  0.98994775],\n",
       "       [ 0.63791981,  0.5       ,  1.06428998],\n",
       "       [ 0.83998628,  0.22      ,  8.85775814],\n",
       "       [ 0.88913638,  0.22      ,  1.48341363],\n",
       "       [ 0.9       ,  0.19150688,  0.90010133],\n",
       "       [ 0.9       ,  0.18325344,  0.90010133],\n",
       "       [ 0.9       ,  0.175     ,  9.49061013],\n",
       "       [ 0.9       ,  0.175     ,  0.90010133],\n",
       "       [ 0.9       ,  0.175     ,  1.50153822],\n",
       "       [ 0.95715592,  0.1       , 10.09332632]])"
      ]
     },
     "execution_count": 379,
     "metadata": {},
     "output_type": "execute_result"
    }
   ],
   "source": [
    "sorty"
   ]
  },
  {
   "cell_type": "code",
   "execution_count": 432,
   "metadata": {},
   "outputs": [],
   "source": [
    "sol = pd.read_csv(\"C:\\\\Users\\\\ericv\\\\code\\\\research\\\\RejectOption\\\\results\\\\2021.01.11.16.08.11\\\\run0_slice0\\\\_experimentResults.txt\", usecols=range(9)).append(\n",
    "    pd.read_csv(\"C:\\\\Users\\\\ericv\\\\code\\\\research\\\\RejectOption\\\\results\\\\2021.01.11.16.08.11\\\\run0_slice1\\\\_experimentResults.txt\", usecols=range(9)), ignore_index=True\n",
    ")"
   ]
  },
  {
   "cell_type": "code",
   "execution_count": 440,
   "metadata": {},
   "outputs": [
    {
     "data": {
      "text/html": [
       "<div>\n",
       "<style scoped>\n",
       "    .dataframe tbody tr th:only-of-type {\n",
       "        vertical-align: middle;\n",
       "    }\n",
       "\n",
       "    .dataframe tbody tr th {\n",
       "        vertical-align: top;\n",
       "    }\n",
       "\n",
       "    .dataframe thead th {\n",
       "        text-align: right;\n",
       "    }\n",
       "</style>\n",
       "<table border=\"1\" class=\"dataframe\">\n",
       "  <thead>\n",
       "    <tr style=\"text-align: right;\">\n",
       "      <th></th>\n",
       "      <th>obj_0_tra</th>\n",
       "      <th>obj_2_tra</th>\n",
       "    </tr>\n",
       "  </thead>\n",
       "  <tbody>\n",
       "    <tr>\n",
       "      <th>0</th>\n",
       "      <td>0.000000</td>\n",
       "      <td>3.0</td>\n",
       "    </tr>\n",
       "    <tr>\n",
       "      <th>1</th>\n",
       "      <td>0.120487</td>\n",
       "      <td>20.0</td>\n",
       "    </tr>\n",
       "    <tr>\n",
       "      <th>2</th>\n",
       "      <td>0.000000</td>\n",
       "      <td>2.0</td>\n",
       "    </tr>\n",
       "    <tr>\n",
       "      <th>3</th>\n",
       "      <td>0.429433</td>\n",
       "      <td>2.0</td>\n",
       "    </tr>\n",
       "    <tr>\n",
       "      <th>4</th>\n",
       "      <td>0.429433</td>\n",
       "      <td>2.0</td>\n",
       "    </tr>\n",
       "    <tr>\n",
       "      <th>...</th>\n",
       "      <td>...</td>\n",
       "      <td>...</td>\n",
       "    </tr>\n",
       "    <tr>\n",
       "      <th>395</th>\n",
       "      <td>0.232134</td>\n",
       "      <td>2.0</td>\n",
       "    </tr>\n",
       "    <tr>\n",
       "      <th>396</th>\n",
       "      <td>0.078491</td>\n",
       "      <td>9.0</td>\n",
       "    </tr>\n",
       "    <tr>\n",
       "      <th>397</th>\n",
       "      <td>0.064804</td>\n",
       "      <td>2.0</td>\n",
       "    </tr>\n",
       "    <tr>\n",
       "      <th>398</th>\n",
       "      <td>0.034201</td>\n",
       "      <td>6.0</td>\n",
       "    </tr>\n",
       "    <tr>\n",
       "      <th>399</th>\n",
       "      <td>0.102714</td>\n",
       "      <td>15.0</td>\n",
       "    </tr>\n",
       "  </tbody>\n",
       "</table>\n",
       "<p>400 rows × 2 columns</p>\n",
       "</div>"
      ],
      "text/plain": [
       "     obj_0_tra  obj_2_tra\n",
       "0     0.000000        3.0\n",
       "1     0.120487       20.0\n",
       "2     0.000000        2.0\n",
       "3     0.429433        2.0\n",
       "4     0.429433        2.0\n",
       "..         ...        ...\n",
       "395   0.232134        2.0\n",
       "396   0.078491        9.0\n",
       "397   0.064804        2.0\n",
       "398   0.034201        6.0\n",
       "399   0.102714       15.0\n",
       "\n",
       "[400 rows x 2 columns]"
      ]
     },
     "execution_count": 440,
     "metadata": {},
     "output_type": "execute_result"
    }
   ],
   "source": [
    "sol[['obj_0_tra','obj_2_tra']]"
   ]
  },
  {
   "cell_type": "code",
   "execution_count": 1,
   "metadata": {},
   "outputs": [
    {
     "ename": "NameError",
     "evalue": "name 'pf1' is not defined",
     "output_type": "error",
     "traceback": [
      "\u001b[1;31m---------------------------------------------------------------------------\u001b[0m",
      "\u001b[1;31mNameError\u001b[0m                                 Traceback (most recent call last)",
      "\u001b[1;32m<ipython-input-1-ee1c8f8a41f0>\u001b[0m in \u001b[0;36m<module>\u001b[1;34m\u001b[0m\n\u001b[1;32m----> 1\u001b[1;33m \u001b[0mpf1\u001b[0m\u001b[1;33m\u001b[0m\u001b[1;33m\u001b[0m\u001b[0m\n\u001b[0m",
      "\u001b[1;31mNameError\u001b[0m: name 'pf1' is not defined"
     ]
    }
   ],
   "source": [
    "pf1"
   ]
  },
  {
   "cell_type": "code",
   "execution_count": 6,
   "metadata": {},
   "outputs": [
    {
     "data": {
      "text/plain": [
       "array([[0.1 , 0.9 ],\n",
       "       [0.15, 0.88],\n",
       "       [0.22, 0.7 ],\n",
       "       [0.3 , 0.6 ],\n",
       "       [0.38, 0.56],\n",
       "       [0.42, 0.55],\n",
       "       [0.5 , 0.5 ],\n",
       "       [0.6 , 0.4 ],\n",
       "       [0.7 , 0.2 ],\n",
       "       [0.9 , 0.1 ],\n",
       "       [0.98, 0.06]])"
      ]
     },
     "execution_count": 6,
     "metadata": {},
     "output_type": "execute_result"
    }
   ],
   "source": [
    "pf1"
   ]
  },
  {
   "cell_type": "code",
   "execution_count": 8,
   "metadata": {},
   "outputs": [
    {
     "data": {
      "text/plain": [
       "array([0.1, 0.9])"
      ]
     },
     "execution_count": 8,
     "metadata": {},
     "output_type": "execute_result"
    }
   ],
   "source": [
    "pt = pf1[0]\n",
    "pt"
   ]
  },
  {
   "cell_type": "code",
   "execution_count": 11,
   "metadata": {},
   "outputs": [
    {
     "data": {
      "text/plain": [
       "array([False,  True,  True,  True,  True,  True,  True,  True,  True,\n",
       "        True,  True])"
      ]
     },
     "execution_count": 11,
     "metadata": {},
     "output_type": "execute_result"
    }
   ],
   "source": [
    "mask = np.ones(pf1.shape[0], dtype=bool)\n",
    "mask[0] = False\n",
    "mask"
   ]
  },
  {
   "cell_type": "code",
   "execution_count": 12,
   "metadata": {},
   "outputs": [
    {
     "data": {
      "text/plain": [
       "array([[0.15, 0.88],\n",
       "       [0.22, 0.7 ],\n",
       "       [0.3 , 0.6 ],\n",
       "       [0.38, 0.56],\n",
       "       [0.42, 0.55],\n",
       "       [0.5 , 0.5 ],\n",
       "       [0.6 , 0.4 ],\n",
       "       [0.7 , 0.2 ],\n",
       "       [0.9 , 0.1 ],\n",
       "       [0.98, 0.06]])"
      ]
     },
     "execution_count": 12,
     "metadata": {},
     "output_type": "execute_result"
    }
   ],
   "source": [
    "others = pf1[mask]\n",
    "others"
   ]
  },
  {
   "cell_type": "code",
   "execution_count": 19,
   "metadata": {},
   "outputs": [
    {
     "data": {
      "text/plain": [
       "False"
      ]
     },
     "execution_count": 19,
     "metadata": {},
     "output_type": "execute_result"
    }
   ],
   "source": [
    "np.any((pt[0] > others[:,0]) & (pt[1] > others[:,1]))"
   ]
  },
  {
   "cell_type": "code",
   "execution_count": 21,
   "metadata": {},
   "outputs": [],
   "source": [
    "def remove_dominated(arr):\n",
    "    n_points = arr.shape[0]\n",
    "    n_dim = arr.shape[1]\n",
    "    \n",
    "    dominated = np.zeros(n_points, dtype=bool)\n",
    "    \n",
    "    for i in range(n_points):\n",
    "        pt = arr[i]\n",
    "        \n",
    "        # Get a view of 'arr', minus pt[i]\n",
    "        mask = np.ones(n_points, dtype=bool)\n",
    "        mask[i] = False\n",
    "        others = arr[mask]\n",
    "        \n",
    "        # Domination (minimizatoin problem):\n",
    "        # A <= B for all dimensions, and A < B for at least one dimension \n",
    "        better_or_equal_this = np.ones(n_points - 1, dtype=bool) # Track the \"for all\" condition\n",
    "        better_than_this = np.zeros(n_points - 1, dtype=bool) # Track the \"at least one\" condition\n",
    "        for dim in range(n_dim):\n",
    "            better_or_equal_this = better_or_equal_this & (pt[dim] >= others[:,dim])\n",
    "            better_than_this = better_than_this | (pt[dim] > others[:,dim])\n",
    "        dominated[i] = np.any((better_or_equal_this & better_than_this))\n",
    "        \n",
    "    return arr[~dominated]"
   ]
  },
  {
   "cell_type": "code",
   "execution_count": 22,
   "metadata": {},
   "outputs": [],
   "source": [
    "pts = np.random.random((100, 2))\n",
    "ndom = remove_dominated(pts)"
   ]
  },
  {
   "cell_type": "code",
   "execution_count": 23,
   "metadata": {},
   "outputs": [
    {
     "data": {
      "image/png": "[encoded data removed]",
      "text/plain": [
       "<Figure size 432x288 with 1 Axes>"
      ]
     },
     "metadata": {
      "needs_background": "light"
     },
     "output_type": "display_data"
    },
    {
     "data": {
      "image/png": "[encoded data removed]",
      "text/plain": [
       "<Figure size 432x288 with 1 Axes>"
      ]
     },
     "metadata": {
      "needs_background": "light"
     },
     "output_type": "display_data"
    }
   ],
   "source": [
    "plt.scatter(x=pts[:,0], y=pts[:,1])\n",
    "plt.show()\n",
    "plt.scatter(x=ndom[:,0], y=ndom[:,1])\n",
    "plt.show()"
   ]
  },
  {
   "cell_type": "code",
   "execution_count": 32,
   "metadata": {},
   "outputs": [
    {
     "data": {
      "text/plain": [
       "<matplotlib.collections.PathCollection at 0x25e170e6550>"
      ]
     },
     "execution_count": 32,
     "metadata": {},
     "output_type": "execute_result"
    },
    {
     "data": {
      "image/png": "[encoded data removed]",
      "text/plain": [
       "<Figure size 432x288 with 1 Axes>"
      ]
     },
     "metadata": {
      "needs_background": "light"
     },
     "output_type": "display_data"
    }
   ],
   "source": []
  },
  {
   "cell_type": "code",
   "execution_count": 39,
   "metadata": {},
   "outputs": [
    {
     "data": {
      "text/html": [
       "<div>\n",
       "<style scoped>\n",
       "    .dataframe tbody tr th:only-of-type {\n",
       "        vertical-align: middle;\n",
       "    }\n",
       "\n",
       "    .dataframe tbody tr th {\n",
       "        vertical-align: top;\n",
       "    }\n",
       "\n",
       "    .dataframe thead th {\n",
       "        text-align: right;\n",
       "    }\n",
       "</style>\n",
       "<table border=\"1\" class=\"dataframe\">\n",
       "  <thead>\n",
       "    <tr style=\"text-align: right;\">\n",
       "      <th></th>\n",
       "      <th>id</th>\n",
       "      <th>pareto_rank_tra</th>\n",
       "      <th>crowding_score_tra</th>\n",
       "      <th>obj_0_tra</th>\n",
       "      <th>obj_1_tra</th>\n",
       "      <th>obj_2_tra</th>\n",
       "      <th>obj_0_tst</th>\n",
       "      <th>obj_1_tst</th>\n",
       "      <th>obj_2_tst</th>\n",
       "    </tr>\n",
       "  </thead>\n",
       "  <tbody>\n",
       "    <tr>\n",
       "      <th>0</th>\n",
       "      <td>0</td>\n",
       "      <td>1</td>\n",
       "      <td>inf</td>\n",
       "      <td>2.0</td>\n",
       "      <td>0.000000</td>\n",
       "      <td>664.0</td>\n",
       "      <td>2.0</td>\n",
       "      <td>0.000000</td>\n",
       "      <td>76.0</td>\n",
       "    </tr>\n",
       "    <tr>\n",
       "      <th>1</th>\n",
       "      <td>1</td>\n",
       "      <td>1</td>\n",
       "      <td>inf</td>\n",
       "      <td>2.0</td>\n",
       "      <td>0.000000</td>\n",
       "      <td>664.0</td>\n",
       "      <td>2.0</td>\n",
       "      <td>0.000000</td>\n",
       "      <td>76.0</td>\n",
       "    </tr>\n",
       "    <tr>\n",
       "      <th>2</th>\n",
       "      <td>2</td>\n",
       "      <td>1</td>\n",
       "      <td>inf</td>\n",
       "      <td>25.0</td>\n",
       "      <td>0.227207</td>\n",
       "      <td>0.0</td>\n",
       "      <td>25.0</td>\n",
       "      <td>0.285714</td>\n",
       "      <td>0.0</td>\n",
       "    </tr>\n",
       "    <tr>\n",
       "      <th>3</th>\n",
       "      <td>3</td>\n",
       "      <td>1</td>\n",
       "      <td>inf</td>\n",
       "      <td>2.0</td>\n",
       "      <td>0.347323</td>\n",
       "      <td>0.0</td>\n",
       "      <td>2.0</td>\n",
       "      <td>0.350649</td>\n",
       "      <td>0.0</td>\n",
       "    </tr>\n",
       "    <tr>\n",
       "      <th>4</th>\n",
       "      <td>4</td>\n",
       "      <td>1</td>\n",
       "      <td>inf</td>\n",
       "      <td>40.0</td>\n",
       "      <td>0.051903</td>\n",
       "      <td>402.0</td>\n",
       "      <td>40.0</td>\n",
       "      <td>0.212121</td>\n",
       "      <td>44.0</td>\n",
       "    </tr>\n",
       "    <tr>\n",
       "      <th>...</th>\n",
       "      <td>...</td>\n",
       "      <td>...</td>\n",
       "      <td>...</td>\n",
       "      <td>...</td>\n",
       "      <td>...</td>\n",
       "      <td>...</td>\n",
       "      <td>...</td>\n",
       "      <td>...</td>\n",
       "      <td>...</td>\n",
       "    </tr>\n",
       "    <tr>\n",
       "      <th>195</th>\n",
       "      <td>195</td>\n",
       "      <td>1</td>\n",
       "      <td>0.009966</td>\n",
       "      <td>10.0</td>\n",
       "      <td>0.155470</td>\n",
       "      <td>170.0</td>\n",
       "      <td>10.0</td>\n",
       "      <td>0.192982</td>\n",
       "      <td>20.0</td>\n",
       "    </tr>\n",
       "    <tr>\n",
       "      <th>196</th>\n",
       "      <td>196</td>\n",
       "      <td>1</td>\n",
       "      <td>0.009848</td>\n",
       "      <td>23.0</td>\n",
       "      <td>0.144177</td>\n",
       "      <td>150.0</td>\n",
       "      <td>23.0</td>\n",
       "      <td>0.241935</td>\n",
       "      <td>15.0</td>\n",
       "    </tr>\n",
       "    <tr>\n",
       "      <th>197</th>\n",
       "      <td>197</td>\n",
       "      <td>1</td>\n",
       "      <td>0.009492</td>\n",
       "      <td>19.0</td>\n",
       "      <td>0.103774</td>\n",
       "      <td>267.0</td>\n",
       "      <td>19.0</td>\n",
       "      <td>0.208333</td>\n",
       "      <td>29.0</td>\n",
       "    </tr>\n",
       "    <tr>\n",
       "      <th>198</th>\n",
       "      <td>198</td>\n",
       "      <td>1</td>\n",
       "      <td>0.008474</td>\n",
       "      <td>4.0</td>\n",
       "      <td>0.121813</td>\n",
       "      <td>338.0</td>\n",
       "      <td>4.0</td>\n",
       "      <td>0.205128</td>\n",
       "      <td>38.0</td>\n",
       "    </tr>\n",
       "    <tr>\n",
       "      <th>199</th>\n",
       "      <td>199</td>\n",
       "      <td>1</td>\n",
       "      <td>0.008311</td>\n",
       "      <td>11.0</td>\n",
       "      <td>0.160813</td>\n",
       "      <td>150.0</td>\n",
       "      <td>11.0</td>\n",
       "      <td>0.213115</td>\n",
       "      <td>16.0</td>\n",
       "    </tr>\n",
       "  </tbody>\n",
       "</table>\n",
       "<p>200 rows × 9 columns</p>\n",
       "</div>"
      ],
      "text/plain": [
       "      id  pareto_rank_tra  crowding_score_tra  obj_0_tra  obj_1_tra  \\\n",
       "0      0                1                 inf        2.0   0.000000   \n",
       "1      1                1                 inf        2.0   0.000000   \n",
       "2      2                1                 inf       25.0   0.227207   \n",
       "3      3                1                 inf        2.0   0.347323   \n",
       "4      4                1                 inf       40.0   0.051903   \n",
       "..   ...              ...                 ...        ...        ...   \n",
       "195  195                1            0.009966       10.0   0.155470   \n",
       "196  196                1            0.009848       23.0   0.144177   \n",
       "197  197                1            0.009492       19.0   0.103774   \n",
       "198  198                1            0.008474        4.0   0.121813   \n",
       "199  199                1            0.008311       11.0   0.160813   \n",
       "\n",
       "     obj_2_tra  obj_0_tst  obj_1_tst  obj_2_tst  \n",
       "0        664.0        2.0   0.000000       76.0  \n",
       "1        664.0        2.0   0.000000       76.0  \n",
       "2          0.0       25.0   0.285714        0.0  \n",
       "3          0.0        2.0   0.350649        0.0  \n",
       "4        402.0       40.0   0.212121       44.0  \n",
       "..         ...        ...        ...        ...  \n",
       "195      170.0       10.0   0.192982       20.0  \n",
       "196      150.0       23.0   0.241935       15.0  \n",
       "197      267.0       19.0   0.208333       29.0  \n",
       "198      338.0        4.0   0.205128       38.0  \n",
       "199      150.0       11.0   0.213115       16.0  \n",
       "\n",
       "[200 rows x 9 columns]"
      ]
     },
     "execution_count": 39,
     "metadata": {},
     "output_type": "execute_result"
    }
   ],
   "source": [
    "sol = pd.read_csv(\"C:\\\\Users\\\\ericv\\\\code\\\\research\\\\RejectOption\\\\results\\\\2021.01.31.15.27.18\\\\run0_slice0\\\\_experimentResults.txt\", usecols=range(9))\n",
    "#C:\\Users\\ericv\\code\\research\\RejectOption\\results\\2021.01.11.17.25.32\n",
    "sol"
   ]
  },
  {
   "cell_type": "code",
   "execution_count": 127,
   "metadata": {},
   "outputs": [
    {
     "data": {
      "image/png": "[encoded data removed]",
      "text/plain": [
       "<Figure size 432x288 with 1 Axes>"
      ]
     },
     "metadata": {
      "needs_background": "light"
     },
     "output_type": "display_data"
    },
    {
     "data": {
      "image/png": "[encoded data removed]",
      "text/plain": [
       "<Figure size 432x288 with 1 Axes>"
      ]
     },
     "metadata": {
      "needs_background": "light"
     },
     "output_type": "display_data"
    },
    {
     "data": {
      "image/png": "[encoded data removed]",
      "text/plain": [
       "<Figure size 432x288 with 1 Axes>"
      ]
     },
     "metadata": {
      "needs_background": "light"
     },
     "output_type": "display_data"
    }
   ],
   "source": [
    "for i in range(3):\n",
    "    for j in range(i + 1, 3):\n",
    "        proj = sol[[sol.columns[3 + i], sol.columns[3 + j]]].to_numpy()\n",
    "        #proj = remove_dominated(proj)\n",
    "        fig, ax = plt.subplots()\n",
    "        ax.plot(proj[:,0], proj[:,1], 'ok')\n",
    "        ax.set_xlabel(sol.columns[3 + i])\n",
    "        ax.set_ylabel(sol.columns[3 + j])\n",
    "        plt.show()"
   ]
  },
  {
   "cell_type": "code",
   "execution_count": 135,
   "metadata": {},
   "outputs": [
    {
     "data": {
      "text/plain": [
       "[<matplotlib.lines.Line2D at 0x23521d92a60>]"
      ]
     },
     "execution_count": 135,
     "metadata": {},
     "output_type": "execute_result"
    },
    {
     "data": {
      "image/png": "[encoded data removed]",
      "text/plain": [
       "<Figure size 432x288 with 1 Axes>"
      ]
     },
     "metadata": {
      "needs_background": "light"
     },
     "output_type": "display_data"
    }
   ],
   "source": [
    "sol = pd.read_csv(\"C:\\\\Users\\\\ericv\\\\code\\\\research\\\\RejectOption\\\\results\\\\2021.01.31.15.27.18\\\\run0_slice0\\\\_experimentResults.txt\", usecols=range(9))\n",
    "sol = sol[sol['pareto_rank_tra'] == 1]\n",
    "proj = sol[['obj_1_tra', 'obj_2_tra']].sort_values(by=['obj_1_tra','obj_2_tra'], ascending=[True, True]).to_numpy()\n",
    "proj = remove_dominated(proj)\n",
    "plt.plot(proj[:,0], proj[:,1], 'ok')"
   ]
  },
  {
   "cell_type": "code",
   "execution_count": 60,
   "metadata": {},
   "outputs": [
    {
     "data": {
      "text/plain": [
       "(59, 2)"
      ]
     },
     "execution_count": 60,
     "metadata": {},
     "output_type": "execute_result"
    }
   ],
   "source": [
    "lines = attainment_lines(proj, proj[:,0].max(), proj[:,1].max())\n",
    "proj.shape"
   ]
  },
  {
   "cell_type": "code",
   "execution_count": 58,
   "metadata": {},
   "outputs": [
    {
     "data": {
      "text/plain": [
       "<matplotlib.collections.LineCollection at 0x23520db7370>"
      ]
     },
     "execution_count": 58,
     "metadata": {},
     "output_type": "execute_result"
    },
    {
     "data": {
      "image/png": "[encoded data removed]",
      "text/plain": [
       "<Figure size 432x288 with 1 Axes>"
      ]
     },
     "metadata": {
      "needs_background": "light"
     },
     "output_type": "display_data"
    }
   ],
   "source": [
    "fig, ax = plt.subplots()\n",
    "ax.set_xlim(0, proj[:,0].max() * 1.1)\n",
    "ax.set_ylim(0, proj[:,1].max() * 1.1)\n",
    "collection = LineCollection(lines, color='blue')\n",
    "ax.add_collection(collection)"
   ]
  },
  {
   "cell_type": "code",
   "execution_count": 69,
   "metadata": {},
   "outputs": [
    {
     "data": {
      "text/plain": [
       "array([[[0.00000000e+00, 4.69000000e+03],\n",
       "        [0.00000000e+00, 4.69000000e+03]],\n",
       "\n",
       "       [[0.00000000e+00, 4.69000000e+03],\n",
       "        [0.00000000e+00, 4.69000000e+03]],\n",
       "\n",
       "       [[0.00000000e+00, 4.69000000e+03],\n",
       "        [0.00000000e+00, 4.59300000e+03]],\n",
       "\n",
       "       [[0.00000000e+00, 4.59300000e+03],\n",
       "        [2.39727312e-02, 4.59300000e+03]],\n",
       "\n",
       "       [[2.39727312e-02, 4.59300000e+03],\n",
       "        [2.39727312e-02, 3.82200000e+03]],\n",
       "\n",
       "       [[2.39727312e-02, 3.82200000e+03],\n",
       "        [2.91124968e-02, 3.82200000e+03]],\n",
       "\n",
       "       [[2.91124968e-02, 3.82200000e+03],\n",
       "        [2.91124968e-02, 3.66700000e+03]],\n",
       "\n",
       "       [[2.91124968e-02, 3.66700000e+03],\n",
       "        [3.10732340e-02, 3.66700000e+03]],\n",
       "\n",
       "       [[3.10732340e-02, 3.66700000e+03],\n",
       "        [3.10732340e-02, 3.65000000e+03]],\n",
       "\n",
       "       [[3.10732340e-02, 3.65000000e+03],\n",
       "        [3.27064850e-02, 3.65000000e+03]],\n",
       "\n",
       "       [[3.27064850e-02, 3.65000000e+03],\n",
       "        [3.27064850e-02, 3.08900000e+03]],\n",
       "\n",
       "       [[3.27064850e-02, 3.08900000e+03],\n",
       "        [3.30862134e-02, 3.08900000e+03]],\n",
       "\n",
       "       [[3.30862134e-02, 3.08900000e+03],\n",
       "        [3.30862134e-02, 3.05200000e+03]],\n",
       "\n",
       "       [[3.30862134e-02, 3.05200000e+03],\n",
       "        [3.37507345e-02, 3.05200000e+03]],\n",
       "\n",
       "       [[3.37507345e-02, 3.05200000e+03],\n",
       "        [3.37507345e-02, 2.96400000e+03]],\n",
       "\n",
       "       [[3.37507345e-02, 2.96400000e+03],\n",
       "        [3.72721791e-02, 2.96400000e+03]],\n",
       "\n",
       "       [[3.72721791e-02, 2.96400000e+03],\n",
       "        [3.72721791e-02, 2.85500000e+03]],\n",
       "\n",
       "       [[3.72721791e-02, 2.85500000e+03],\n",
       "        [3.80049662e-02, 2.85500000e+03]],\n",
       "\n",
       "       [[3.80049662e-02, 2.85500000e+03],\n",
       "        [3.80049662e-02, 2.69800000e+03]],\n",
       "\n",
       "       [[3.80049662e-02, 2.69800000e+03],\n",
       "        [4.25652377e-02, 2.69800000e+03]],\n",
       "\n",
       "       [[4.25652377e-02, 2.69800000e+03],\n",
       "        [4.25652377e-02, 2.63600000e+03]],\n",
       "\n",
       "       [[4.25652377e-02, 2.63600000e+03],\n",
       "        [4.43603720e-02, 2.63600000e+03]],\n",
       "\n",
       "       [[4.43603720e-02, 2.63600000e+03],\n",
       "        [4.43603720e-02, 2.53500000e+03]],\n",
       "\n",
       "       [[4.43603720e-02, 2.53500000e+03],\n",
       "        [4.79419799e-02, 2.53500000e+03]],\n",
       "\n",
       "       [[4.79419799e-02, 2.53500000e+03],\n",
       "        [4.79419799e-02, 2.50500000e+03]],\n",
       "\n",
       "       [[4.79419799e-02, 2.50500000e+03],\n",
       "        [4.91602228e-02, 2.50500000e+03]],\n",
       "\n",
       "       [[4.91602228e-02, 2.50500000e+03],\n",
       "        [4.91602228e-02, 2.46000000e+03]],\n",
       "\n",
       "       [[4.91602228e-02, 2.46000000e+03],\n",
       "        [5.04488179e-02, 2.46000000e+03]],\n",
       "\n",
       "       [[5.04488179e-02, 2.46000000e+03],\n",
       "        [5.04488179e-02, 2.44800000e+03]],\n",
       "\n",
       "       [[5.04488179e-02, 2.44800000e+03],\n",
       "        [5.16715903e-02, 2.44800000e+03]],\n",
       "\n",
       "       [[5.16715903e-02, 2.44800000e+03],\n",
       "        [5.16715903e-02, 2.36000000e+03]],\n",
       "\n",
       "       [[5.16715903e-02, 2.36000000e+03],\n",
       "        [5.38552757e-02, 2.36000000e+03]],\n",
       "\n",
       "       [[5.38552757e-02, 2.36000000e+03],\n",
       "        [5.38552757e-02, 2.28300000e+03]],\n",
       "\n",
       "       [[5.38552757e-02, 2.28300000e+03],\n",
       "        [5.66685859e-02, 2.28300000e+03]],\n",
       "\n",
       "       [[5.66685859e-02, 2.28300000e+03],\n",
       "        [5.66685859e-02, 2.19700000e+03]],\n",
       "\n",
       "       [[5.66685859e-02, 2.19700000e+03],\n",
       "        [6.78578354e-02, 2.19700000e+03]],\n",
       "\n",
       "       [[6.78578354e-02, 2.19700000e+03],\n",
       "        [6.78578354e-02, 2.14500000e+03]],\n",
       "\n",
       "       [[6.78578354e-02, 2.14500000e+03],\n",
       "        [6.95364497e-02, 2.14500000e+03]],\n",
       "\n",
       "       [[6.95364497e-02, 2.14500000e+03],\n",
       "        [6.95364497e-02, 1.68000000e+03]],\n",
       "\n",
       "       [[6.95364497e-02, 1.68000000e+03],\n",
       "        [6.95364497e-02, 1.68000000e+03]],\n",
       "\n",
       "       [[6.95364497e-02, 1.68000000e+03],\n",
       "        [6.95364497e-02, 1.68000000e+03]],\n",
       "\n",
       "       [[6.95364497e-02, 1.68000000e+03],\n",
       "        [7.73585820e-02, 1.68000000e+03]],\n",
       "\n",
       "       [[7.73585820e-02, 1.68000000e+03],\n",
       "        [7.73585820e-02, 8.80000000e+02]],\n",
       "\n",
       "       [[7.73585820e-02, 8.80000000e+02],\n",
       "        [7.86467923e-02, 8.80000000e+02]],\n",
       "\n",
       "       [[7.86467923e-02, 8.80000000e+02],\n",
       "        [7.86467923e-02, 8.13000000e+02]],\n",
       "\n",
       "       [[7.86467923e-02, 8.13000000e+02],\n",
       "        [7.89153087e-02, 8.13000000e+02]],\n",
       "\n",
       "       [[7.89153087e-02, 8.13000000e+02],\n",
       "        [7.89153087e-02, 7.65000000e+02]],\n",
       "\n",
       "       [[7.89153087e-02, 7.65000000e+02],\n",
       "        [7.97033124e-02, 7.65000000e+02]],\n",
       "\n",
       "       [[7.97033124e-02, 7.65000000e+02],\n",
       "        [7.97033124e-02, 7.10000000e+02]],\n",
       "\n",
       "       [[7.97033124e-02, 7.10000000e+02],\n",
       "        [8.19795420e-02, 7.10000000e+02]],\n",
       "\n",
       "       [[8.19795420e-02, 7.10000000e+02],\n",
       "        [8.19795420e-02, 6.74000000e+02]],\n",
       "\n",
       "       [[8.19795420e-02, 6.74000000e+02],\n",
       "        [8.32039095e-02, 6.74000000e+02]],\n",
       "\n",
       "       [[8.32039095e-02, 6.74000000e+02],\n",
       "        [8.32039095e-02, 6.37000000e+02]],\n",
       "\n",
       "       [[8.32039095e-02, 6.37000000e+02],\n",
       "        [8.58128627e-02, 6.37000000e+02]],\n",
       "\n",
       "       [[8.58128627e-02, 6.37000000e+02],\n",
       "        [8.58128627e-02, 6.16000000e+02]],\n",
       "\n",
       "       [[8.58128627e-02, 6.16000000e+02],\n",
       "        [8.70037818e-02, 6.16000000e+02]],\n",
       "\n",
       "       [[8.70037818e-02, 6.16000000e+02],\n",
       "        [8.70037818e-02, 6.09000000e+02]],\n",
       "\n",
       "       [[8.70037818e-02, 6.09000000e+02],\n",
       "        [8.71922338e-02, 6.09000000e+02]],\n",
       "\n",
       "       [[8.71922338e-02, 6.09000000e+02],\n",
       "        [8.71922338e-02, 5.26000000e+02]],\n",
       "\n",
       "       [[8.71922338e-02, 5.26000000e+02],\n",
       "        [9.21968779e-02, 5.26000000e+02]],\n",
       "\n",
       "       [[9.21968779e-02, 5.26000000e+02],\n",
       "        [9.21968779e-02, 4.95000000e+02]],\n",
       "\n",
       "       [[9.21968779e-02, 4.95000000e+02],\n",
       "        [9.29010266e-02, 4.95000000e+02]],\n",
       "\n",
       "       [[9.29010266e-02, 4.95000000e+02],\n",
       "        [9.29010266e-02, 4.81000000e+02]],\n",
       "\n",
       "       [[9.29010266e-02, 4.81000000e+02],\n",
       "        [9.92989598e-02, 4.81000000e+02]],\n",
       "\n",
       "       [[9.92989598e-02, 4.81000000e+02],\n",
       "        [9.92989598e-02, 3.83000000e+02]],\n",
       "\n",
       "       [[9.92989598e-02, 3.83000000e+02],\n",
       "        [1.01181529e-01, 3.83000000e+02]],\n",
       "\n",
       "       [[1.01181529e-01, 3.83000000e+02],\n",
       "        [1.01181529e-01, 3.14000000e+02]],\n",
       "\n",
       "       [[1.01181529e-01, 3.14000000e+02],\n",
       "        [1.01267415e-01, 3.14000000e+02]],\n",
       "\n",
       "       [[1.01267415e-01, 3.14000000e+02],\n",
       "        [1.01267415e-01, 2.66000000e+02]],\n",
       "\n",
       "       [[1.01267415e-01, 2.66000000e+02],\n",
       "        [1.03761293e-01, 2.66000000e+02]],\n",
       "\n",
       "       [[1.03761293e-01, 2.66000000e+02],\n",
       "        [1.03761293e-01, 2.44000000e+02]],\n",
       "\n",
       "       [[1.03761293e-01, 2.44000000e+02],\n",
       "        [1.09755130e-01, 2.44000000e+02]],\n",
       "\n",
       "       [[1.09755130e-01, 2.44000000e+02],\n",
       "        [1.09755130e-01, 2.43000000e+02]],\n",
       "\n",
       "       [[1.09755130e-01, 2.43000000e+02],\n",
       "        [1.09929568e-01, 2.43000000e+02]],\n",
       "\n",
       "       [[1.09929568e-01, 2.43000000e+02],\n",
       "        [1.09929568e-01, 1.81000000e+02]],\n",
       "\n",
       "       [[1.09929568e-01, 1.81000000e+02],\n",
       "        [1.12432358e-01, 1.81000000e+02]],\n",
       "\n",
       "       [[1.12432358e-01, 1.81000000e+02],\n",
       "        [1.12432358e-01, 1.27000000e+02]],\n",
       "\n",
       "       [[1.12432358e-01, 1.27000000e+02],\n",
       "        [1.15765193e-01, 1.27000000e+02]],\n",
       "\n",
       "       [[1.15765193e-01, 1.27000000e+02],\n",
       "        [1.15765193e-01, 9.40000000e+01]],\n",
       "\n",
       "       [[1.15765193e-01, 9.40000000e+01],\n",
       "        [1.16371582e-01, 9.40000000e+01]],\n",
       "\n",
       "       [[1.16371582e-01, 9.40000000e+01],\n",
       "        [1.16371582e-01, 9.30000000e+01]],\n",
       "\n",
       "       [[1.16371582e-01, 9.30000000e+01],\n",
       "        [1.16544374e-01, 9.30000000e+01]],\n",
       "\n",
       "       [[1.16544374e-01, 9.30000000e+01],\n",
       "        [1.16544374e-01, 5.90000000e+01]],\n",
       "\n",
       "       [[1.16544374e-01, 5.90000000e+01],\n",
       "        [1.17689703e-01, 5.90000000e+01]],\n",
       "\n",
       "       [[1.17689703e-01, 5.90000000e+01],\n",
       "        [1.17689703e-01, 5.80000000e+01]],\n",
       "\n",
       "       [[1.17689703e-01, 5.80000000e+01],\n",
       "        [1.18741782e-01, 5.80000000e+01]],\n",
       "\n",
       "       [[1.18741782e-01, 5.80000000e+01],\n",
       "        [1.18741782e-01, 4.00000000e+01]],\n",
       "\n",
       "       [[1.18741782e-01, 4.00000000e+01],\n",
       "        [1.18855234e-01, 4.00000000e+01]],\n",
       "\n",
       "       [[1.18855234e-01, 4.00000000e+01],\n",
       "        [1.18855234e-01, 2.70000000e+01]],\n",
       "\n",
       "       [[1.18855234e-01, 2.70000000e+01],\n",
       "        [1.19104355e-01, 2.70000000e+01]],\n",
       "\n",
       "       [[1.19104355e-01, 2.70000000e+01],\n",
       "        [1.19104355e-01, 2.30000000e+01]],\n",
       "\n",
       "       [[1.19104355e-01, 2.30000000e+01],\n",
       "        [1.19483027e-01, 2.30000000e+01]],\n",
       "\n",
       "       [[1.19483027e-01, 2.30000000e+01],\n",
       "        [1.19483027e-01, 2.00000000e+01]],\n",
       "\n",
       "       [[1.19483027e-01, 2.00000000e+01],\n",
       "        [1.19621084e-01, 2.00000000e+01]],\n",
       "\n",
       "       [[1.19621084e-01, 2.00000000e+01],\n",
       "        [1.19621084e-01, 1.20000000e+01]],\n",
       "\n",
       "       [[1.19621084e-01, 1.20000000e+01],\n",
       "        [1.20059436e-01, 1.20000000e+01]],\n",
       "\n",
       "       [[1.20059436e-01, 1.20000000e+01],\n",
       "        [1.20059436e-01, 0.00000000e+00]],\n",
       "\n",
       "       [[1.20059436e-01, 0.00000000e+00],\n",
       "        [1.22378981e-01, 0.00000000e+00]],\n",
       "\n",
       "       [[1.22378981e-01, 0.00000000e+00],\n",
       "        [1.22378981e-01, 0.00000000e+00]],\n",
       "\n",
       "       [[1.22378981e-01, 0.00000000e+00],\n",
       "        [1.23866055e-01, 0.00000000e+00]],\n",
       "\n",
       "       [[1.23866055e-01, 0.00000000e+00],\n",
       "        [1.23866055e-01, 0.00000000e+00]],\n",
       "\n",
       "       [[1.23866055e-01, 0.00000000e+00],\n",
       "        [1.24570635e-01, 0.00000000e+00]],\n",
       "\n",
       "       [[1.24570635e-01, 0.00000000e+00],\n",
       "        [1.24570635e-01, 0.00000000e+00]],\n",
       "\n",
       "       [[1.24570635e-01, 0.00000000e+00],\n",
       "        [1.24858842e-01, 0.00000000e+00]],\n",
       "\n",
       "       [[1.24858842e-01, 0.00000000e+00],\n",
       "        [1.24858842e-01, 0.00000000e+00]],\n",
       "\n",
       "       [[1.24858842e-01, 0.00000000e+00],\n",
       "        [1.25176812e-01, 0.00000000e+00]],\n",
       "\n",
       "       [[1.25176812e-01, 0.00000000e+00],\n",
       "        [1.25176812e-01, 0.00000000e+00]],\n",
       "\n",
       "       [[1.25176812e-01, 0.00000000e+00],\n",
       "        [1.26223171e-01, 0.00000000e+00]],\n",
       "\n",
       "       [[1.26223171e-01, 0.00000000e+00],\n",
       "        [1.26223171e-01, 0.00000000e+00]],\n",
       "\n",
       "       [[1.26223171e-01, 0.00000000e+00],\n",
       "        [1.29491705e-01, 0.00000000e+00]],\n",
       "\n",
       "       [[1.29491705e-01, 0.00000000e+00],\n",
       "        [1.29491705e-01, 0.00000000e+00]],\n",
       "\n",
       "       [[1.29491705e-01, 0.00000000e+00],\n",
       "        [1.55475216e-01, 0.00000000e+00]],\n",
       "\n",
       "       [[1.55475216e-01, 0.00000000e+00],\n",
       "        [1.55475216e-01, 0.00000000e+00]],\n",
       "\n",
       "       [[1.55475216e-01, 0.00000000e+00],\n",
       "        [1.57635428e-01, 0.00000000e+00]],\n",
       "\n",
       "       [[1.57635428e-01, 0.00000000e+00],\n",
       "        [1.57635428e-01, 0.00000000e+00]],\n",
       "\n",
       "       [[1.57635428e-01, 0.00000000e+00],\n",
       "        [1.69878054e-01, 0.00000000e+00]],\n",
       "\n",
       "       [[1.69878054e-01, 0.00000000e+00],\n",
       "        [1.69878054e-01, 0.00000000e+00]],\n",
       "\n",
       "       [[1.69878054e-01, 0.00000000e+00],\n",
       "        [1.75642689e-01, 0.00000000e+00]],\n",
       "\n",
       "       [[1.75642689e-01, 0.00000000e+00],\n",
       "        [1.75642689e-01, 0.00000000e+00]],\n",
       "\n",
       "       [[1.75642689e-01, 0.00000000e+00],\n",
       "        [1.85526454e-01, 0.00000000e+00]],\n",
       "\n",
       "       [[1.85526454e-01, 0.00000000e+00],\n",
       "        [1.85526454e-01, 0.00000000e+00]],\n",
       "\n",
       "       [[1.85526454e-01, 0.00000000e+00],\n",
       "        [2.18870174e-01, 0.00000000e+00]],\n",
       "\n",
       "       [[2.18870174e-01, 0.00000000e+00],\n",
       "        [2.18870174e-01, 0.00000000e+00]],\n",
       "\n",
       "       [[2.18870174e-01, 0.00000000e+00],\n",
       "        [2.75897232e-01, 0.00000000e+00]],\n",
       "\n",
       "       [[2.75897232e-01, 0.00000000e+00],\n",
       "        [2.75897232e-01, 0.00000000e+00]],\n",
       "\n",
       "       [[2.75897232e-01, 0.00000000e+00],\n",
       "        [3.13398808e-01, 0.00000000e+00]],\n",
       "\n",
       "       [[3.13398808e-01, 0.00000000e+00],\n",
       "        [3.13398808e-01, 0.00000000e+00]],\n",
       "\n",
       "       [[3.13398808e-01, 0.00000000e+00],\n",
       "        [3.13398808e-01, 0.00000000e+00]],\n",
       "\n",
       "       [[3.13398808e-01, 0.00000000e+00],\n",
       "        [3.13398808e-01, 0.00000000e+00]],\n",
       "\n",
       "       [[3.13398808e-01, 0.00000000e+00],\n",
       "        [4.89035833e-01, 0.00000000e+00]],\n",
       "\n",
       "       [[4.89035833e-01, 0.00000000e+00],\n",
       "        [4.89035833e-01, 0.00000000e+00]],\n",
       "\n",
       "       [[4.89035833e-01, 0.00000000e+00],\n",
       "        [4.89035833e-01, 0.00000000e+00]],\n",
       "\n",
       "       [[4.89035833e-01, 0.00000000e+00],\n",
       "        [4.89035833e-01, 0.00000000e+00]],\n",
       "\n",
       "       [[4.89035833e-01, 0.00000000e+00],\n",
       "        [4.89035833e-01, 0.00000000e+00]]])"
      ]
     },
     "execution_count": 69,
     "metadata": {},
     "output_type": "execute_result"
    }
   ],
   "source": [
    "lines"
   ]
  },
  {
   "cell_type": "code",
   "execution_count": 134,
   "metadata": {},
   "outputs": [
    {
     "data": {
      "text/plain": [
       "<matplotlib.collections.PathCollection at 0x23521e38af0>"
      ]
     },
     "execution_count": 134,
     "metadata": {},
     "output_type": "execute_result"
    },
    {
     "data": {
      "image/png": "[encoded data removed]",
      "text/plain": [
       "<Figure size 432x288 with 1 Axes>"
      ]
     },
     "metadata": {
      "needs_background": "light"
     },
     "output_type": "display_data"
    }
   ],
   "source": [
    "a, b, c = 3, 3, 3\n",
    "\n",
    "hits = np.empty((a*b*c, 3, 3))\n",
    "colors=['blue', 'red', 'green']\n",
    "fig, ax = plt.subplots()\n",
    "ax.set_xlim(0, 1)\n",
    "ax.set_ylim(0, 1)\n",
    "\n",
    "lines = [attainment_lines(i, 1.0, 1.0) for i in pareto_sets]\n",
    "\n",
    "for i in range(3):\n",
    "    hit_idx = 0\n",
    "    for slope in np.power(np.linspace(0.35, 1.8, a), 4):\n",
    "        for x_shift in np.linspace(-0.2, 0.9, b):\n",
    "            for y_shift in np.linspace(-0.5, 0.85, c):\n",
    "                intercept = y_shift - x_shift * slope                \n",
    "                hit = get_intersect(attainment_lines(pareto_sets[i], x_max, y_max), slope, intercept)\n",
    "                hits[hit_idx,i] = hit\n",
    "                hit_idx += 1\n",
    "                \n",
    "                if hit_idx in [2, 5, 8, 17]:\n",
    "                    ax.axline((0, intercept), slope=slope, linestyle='dashed')\n",
    "                \n",
    "                            \n",
    "    non_null = hits[:,i][~np.isinf(hits[:,i,0])]\n",
    "    ax.scatter(x=non_null[:,0], y=non_null[:,1], s=2, color=colors[i])\n",
    "    \n",
    "    collection = LineCollection(lines[i], color=colors[i])\n",
    "    ax.add_collection(collection)\n",
    "    \n",
    "medians = np.median(hits, axis=1)\n",
    "non_null = medians[~np.isinf(medians[:,0])]\n",
    "\n",
    "ax.scatter(x=non_null[:,0], y=non_null[:,1], s=2, color='black')"
   ]
  },
  {
   "cell_type": "code",
   "execution_count": 148,
   "metadata": {},
   "outputs": [],
   "source": [
    "all_lines_tra_cl = []\n",
    "for i in range(10):\n",
    "    sol = pd.read_csv(\n",
    "        \"C:\\\\Users\\\\ericv\\\\code\\\\research\\\\RejectOption\\\\results\\\\2021.01.31.15.27.18\\\\run0_slice{0}\\\\_experimentResults.txt\".format(i),\n",
    "                      usecols=range(9))\n",
    "    sol = sol[sol['pareto_rank_tra'] == 1]\n",
    "    proj = sol[['obj_1_tra', 'obj_2_tra']].sort_values(by=['obj_1_tra','obj_2_tra'], ascending=[True, True]).to_numpy()\n",
    "    proj = remove_dominated(proj)\n",
    "    proj[:,1] /= 691\n",
    "    lines = attainment_lines(proj, proj[:,0].max(), proj[:,1].max())\n",
    "    all_lines_tra_cl.append(lines)\n",
    "    \n",
    "a, b, c = 50, 50, 10\n",
    "\n",
    "hits = np.empty((a*b*c, 10, 3))\n",
    "\n",
    "for i in range(10):\n",
    "    hit_idx = 0\n",
    "    for slope in np.power(np.linspace(0.35, 1.8, a), 4):\n",
    "        for x_shift in np.linspace(-0.2, 0.9, b):\n",
    "            for y_shift in np.linspace(-0.5, 0.85, c):\n",
    "                intercept = y_shift - x_shift * slope                \n",
    "                hit = get_intersect(all_lines_tra_cl[i], slope, intercept)\n",
    "                hits[hit_idx,i] = hit\n",
    "                hit_idx += 1\n",
    "                            \n",
    "    non_null = hits[:,i][~np.isinf(hits[:,i,0])]\n",
    "#    ax.scatter(x=non_null[:,0], y=non_null[:,1], s=2, color=colors[i % 3])\n",
    "    \n",
    "#     collection = LineCollection(all_lines[i], color=colors[i % 3])\n",
    "#     ax.add_collection(collection)\n",
    "    \n",
    "medians = np.median(hits, axis=1)\n",
    "medians = remove_dominated(medians)\n",
    "non_null = medians[~np.isinf(medians[:,0])]\n",
    "non_null = pd.DataFrame(non_null).sort_values(by=[0,1], ascending=[True, True]).to_numpy()\n",
    "lines_final_tra_cl = attainment_lines(non_null, 1, 1)"
   ]
  },
  {
   "cell_type": "code",
   "execution_count": 149,
   "metadata": {},
   "outputs": [],
   "source": [
    "all_lines_tst_cl = []\n",
    "for i in range(10):\n",
    "    sol = pd.read_csv(\n",
    "        \"C:\\\\Users\\\\ericv\\\\code\\\\research\\\\RejectOption\\\\results\\\\2021.01.31.15.27.18\\\\run0_slice{0}\\\\_experimentResults.txt\".format(i),\n",
    "                      usecols=range(9))\n",
    "    sol = sol[sol['pareto_rank_tra'] == 1]\n",
    "    proj = sol[['obj_1_tst', 'obj_2_tst']].sort_values(by=['obj_1_tst','obj_2_tst'], ascending=[True, True]).to_numpy()\n",
    "    proj = remove_dominated(proj)\n",
    "    proj[:,1] /= 691\n",
    "    proj[:,0] += 0.05\n",
    "    lines = attainment_lines(proj, proj[:,0].max(), proj[:,1].max())\n",
    "    all_lines_tst_cl.append(lines)\n",
    "    \n",
    "a, b, c = 50, 50, 10\n",
    "\n",
    "hits = np.empty((a*b*c, 10, 3))\n",
    "\n",
    "for i in range(10):\n",
    "    hit_idx = 0\n",
    "    for slope in np.power(np.linspace(0.35, 1.8, a), 4):\n",
    "        for x_shift in np.linspace(-0.2, 0.9, b):\n",
    "            for y_shift in np.linspace(-0.5, 0.85, c):\n",
    "                intercept = y_shift - x_shift * slope                \n",
    "                hit = get_intersect(all_lines_tst_cl[i], slope, intercept)\n",
    "                hits[hit_idx,i] = hit\n",
    "                hit_idx += 1\n",
    "                            \n",
    "    non_null = hits[:,i][~np.isinf(hits[:,i,0])]\n",
    "#    ax.scatter(x=non_null[:,0], y=non_null[:,1], s=2, color=colors[i % 3])\n",
    "    \n",
    "#     collection = LineCollection(all_lines[i], color=colors[i % 3])\n",
    "#     ax.add_collection(collection)\n",
    "    \n",
    "medians = np.median(hits, axis=1)\n",
    "medians = remove_dominated(medians)\n",
    "non_null = medians[~np.isinf(medians[:,0])]\n",
    "non_null = pd.DataFrame(non_null).sort_values(by=[0,1], ascending=[True, True]).to_numpy()\n",
    "lines_final_tst_cl = attainment_lines(non_null, 1, 1)"
   ]
  },
  {
   "cell_type": "code",
   "execution_count": 159,
   "metadata": {},
   "outputs": [],
   "source": [
    "all_lines_tra_sv = []\n",
    "for i in range(10):\n",
    "    sol = pd.read_csv(\n",
    "        \"C:\\\\Users\\\\ericv\\\\code\\\\research\\\\RejectOption\\\\results\\\\2021.01.31.20.04.40\\\\run0_slice{0}\\\\_experimentResults.txt\".format(i),\n",
    "                      usecols=range(9))\n",
    "    sol = sol[sol['pareto_rank_tra'] == 1]\n",
    "    proj = sol[['obj_1_tra', 'obj_2_tra']].sort_values(by=['obj_1_tra','obj_2_tra'], ascending=[True, True]).to_numpy()\n",
    "    proj = remove_dominated(proj)\n",
    "    proj[:,1] /= 691\n",
    "    lines = attainment_lines(proj, proj[:,0].max(), proj[:,1].max())\n",
    "    all_lines_tra_sv.append(lines)\n",
    "    \n",
    "a, b, c = 50, 50, 10\n",
    "\n",
    "hits = np.empty((a*b*c, 10, 3))\n",
    "\n",
    "for i in range(10):\n",
    "    hit_idx = 0\n",
    "    for slope in np.power(np.linspace(0.35, 1.8, a), 4):\n",
    "        for x_shift in np.linspace(-0.2, 0.9, b):\n",
    "            for y_shift in np.linspace(-0.5, 0.85, c):\n",
    "                intercept = y_shift - x_shift * slope                \n",
    "                hit = get_intersect(all_lines_tra_sv[i], slope, intercept)\n",
    "                hits[hit_idx,i] = hit\n",
    "                hit_idx += 1\n",
    "                            \n",
    "    non_null = hits[:,i][~np.isinf(hits[:,i,0])]\n",
    "#    ax.scatter(x=non_null[:,0], y=non_null[:,1], s=2, color=colors[i % 3])\n",
    "    \n",
    "#     collection = LineCollection(all_lines[i], color=colors[i % 3])\n",
    "#     ax.add_collection(collection)\n",
    "    \n",
    "medians = np.median(hits, axis=1)\n",
    "medians = remove_dominated(medians)\n",
    "non_null = medians[~np.isinf(medians[:,0])]\n",
    "non_null = pd.DataFrame(non_null).sort_values(by=[0,1], ascending=[True, True]).to_numpy()\n",
    "lines_final_tra_sv = attainment_lines(non_null, 1, 1)"
   ]
  },
  {
   "cell_type": "code",
   "execution_count": 160,
   "metadata": {},
   "outputs": [],
   "source": [
    "all_lines_tst_sv = []\n",
    "for i in range(10):\n",
    "    sol = pd.read_csv(\n",
    "        \"C:\\\\Users\\\\ericv\\\\code\\\\research\\\\RejectOption\\\\results\\\\2021.01.31.20.04.40\\\\run0_slice{0}\\\\_experimentResults.txt\".format(i),\n",
    "                      usecols=range(9))\n",
    "    sol = sol[sol['pareto_rank_tra'] == 1]\n",
    "    proj = sol[['obj_1_tst', 'obj_2_tst']].sort_values(by=['obj_1_tst','obj_2_tst'], ascending=[True, True]).to_numpy()\n",
    "    proj = remove_dominated(proj)\n",
    "    proj[:,1] /= 691\n",
    "    proj[:,0] += 0.05\n",
    "    lines = attainment_lines(proj, proj[:,0].max(), proj[:,1].max())\n",
    "    all_lines_tst_sv.append(lines)\n",
    "    \n",
    "a, b, c = 50, 50, 10\n",
    "\n",
    "hits = np.empty((a*b*c, 10, 3))\n",
    "\n",
    "for i in range(10):\n",
    "    hit_idx = 0\n",
    "    for slope in np.power(np.linspace(0.35, 1.8, a), 4):\n",
    "        for x_shift in np.linspace(-0.2, 0.9, b):\n",
    "            for y_shift in np.linspace(-0.5, 0.85, c):\n",
    "                intercept = y_shift - x_shift * slope                \n",
    "                hit = get_intersect(all_lines_tst_sv[i], slope, intercept)\n",
    "                hits[hit_idx,i] = hit\n",
    "                hit_idx += 1\n",
    "                            \n",
    "    non_null = hits[:,i][~np.isinf(hits[:,i,0])]\n",
    "#    ax.scatter(x=non_null[:,0], y=non_null[:,1], s=2, color=colors[i % 3])\n",
    "    \n",
    "#     collection = LineCollection(all_lines[i], color=colors[i % 3])\n",
    "#     ax.add_collection(collection)\n",
    "    \n",
    "medians = np.median(hits, axis=1)\n",
    "medians = remove_dominated(medians)\n",
    "non_null = medians[~np.isinf(medians[:,0])]\n",
    "non_null = pd.DataFrame(non_null).sort_values(by=[0,1], ascending=[True, True]).to_numpy()\n",
    "lines_final_tst_sv = attainment_lines(non_null, 1, 1)"
   ]
  },
  {
   "cell_type": "code",
   "execution_count": 170,
   "metadata": {},
   "outputs": [
    {
     "data": {
      "text/plain": [
       "Text(0.5, 1.0, 'Pima Dataset, Training')"
      ]
     },
     "execution_count": 170,
     "metadata": {},
     "output_type": "execute_result"
    },
    {
     "data": {
      "image/png": "[encoded data removed]",
      "text/plain": [
       "<Figure size 576x576 with 1 Axes>"
      ]
     },
     "metadata": {
      "needs_background": "light"
     },
     "output_type": "display_data"
    }
   ],
   "source": [
    "fig, ax = plt.subplots(figsize=(8,8))\n",
    "ax.set_xlim(0, 0.3)\n",
    "ax.set_ylim(0, 0.9)\n",
    "\n",
    "collection = LineCollection(lines_final_tra_cl, color='k')\n",
    "ax.add_collection(collection)\n",
    "\n",
    "\n",
    "collection = LineCollection(lines_final_tra_sv, color='blue')\n",
    "ax.add_collection(collection)\n",
    "ax.set_xlabel('Error Rate')\n",
    "ax.set_ylabel('% of Rules Rejected')\n",
    "ax.set_title('Pima Dataset, Training')\n"
   ]
  },
  {
   "cell_type": "code",
   "execution_count": 172,
   "metadata": {},
   "outputs": [
    {
     "data": {
      "text/plain": [
       "Text(0.5, 1.0, 'Pima Dataset, Testing')"
      ]
     },
     "execution_count": 172,
     "metadata": {},
     "output_type": "execute_result"
    },
    {
     "data": {
      "image/png": "[encoded data removed]",
      "text/plain": [
       "<Figure size 576x576 with 1 Axes>"
      ]
     },
     "metadata": {
      "needs_background": "light"
     },
     "output_type": "display_data"
    }
   ],
   "source": [
    "fig, ax = plt.subplots(figsize=(8,8))\n",
    "ax.set_xlim(0.03, 0.4)\n",
    "ax.set_ylim(0, 0.15)\n",
    "\n",
    "collection = LineCollection(lines_final_tst_cl, color='k')\n",
    "ax.add_collection(collection)\n",
    "\n",
    "\n",
    "collection = LineCollection(lines_final_tst_sv, color='blue')\n",
    "ax.add_collection(collection)\n",
    "ax.set_xlabel('Error Rate')\n",
    "ax.set_ylabel('% of Rules Rejected')\n",
    "ax.set_title('Pima Dataset, Testing')"
   ]
  },
  {
   "cell_type": "code",
   "execution_count": 173,
   "metadata": {},
   "outputs": [],
   "source": [
    "# Final calculation stuff\n",
    "final_per_class = pd.read_csv(\"C:\\\\Users\\\\ericv\\\\code\\\\research\\\\RejectOption\\\\results\\\\2021.01.31.16.52.47\\\\final.txt\", usecols=range(6),\n",
    "                             names=['tr_rules', 'tr_error', 'tr_rejected', 'ts_rules', 'ts_error', 'ts_rejected'])\n",
    "final_sv = pd.read_csv(\"C:\\\\Users\\\\ericv\\\\code\\\\research\\\\RejectOption\\\\results\\\\2021.01.31.20.04.40\\\\final.txt\", usecols=range(6),\n",
    "                             names=['tr_rules', 'tr_error', 'tr_rejected', 'ts_rules', 'ts_error', 'ts_rejected'])"
   ]
  },
  {
   "cell_type": "code",
   "execution_count": 177,
   "metadata": {},
   "outputs": [
    {
     "data": {
      "text/plain": [
       "Text(0, 0.5, 'Number of rejected patterns')"
      ]
     },
     "execution_count": 177,
     "metadata": {},
     "output_type": "execute_result"
    },
    {
     "data": {
      "image/png": "[encoded data removed]",
      "text/plain": [
       "<Figure size 576x576 with 1 Axes>"
      ]
     },
     "metadata": {
      "needs_background": "light"
     },
     "output_type": "display_data"
    }
   ],
   "source": [
    "fig, ax = plt.subplots(figsize=(8,8))\n",
    "ax.plot(final_per_class['tr_rules'], final_per_class['tr_rejected'], 'ok', label='Per-Class Thresholds')\n",
    "ax.plot(final_sv['tr_rules'], final_sv['tr_rejected'], 'ob', label='Single-Variable Threshold')\n",
    "\n",
    "ax.legend()\n",
    "ax.set_title('Pima Dataset, Training')\n",
    "ax.set_xlabel('Number of rules')\n",
    "ax.set_ylabel('Number of rejected patterns')"
   ]
  },
  {
   "cell_type": "code",
   "execution_count": 178,
   "metadata": {},
   "outputs": [
    {
     "data": {
      "text/plain": [
       "Text(0, 0.5, 'Number of rejected patterns')"
      ]
     },
     "execution_count": 178,
     "metadata": {},
     "output_type": "execute_result"
    },
    {
     "data": {
      "image/png": "[encoded data removed]",
      "text/plain": [
       "<Figure size 576x576 with 1 Axes>"
      ]
     },
     "metadata": {
      "needs_background": "light"
     },
     "output_type": "display_data"
    }
   ],
   "source": [
    "fig, ax = plt.subplots(figsize=(8,8))\n",
    "ax.plot(final_per_class['ts_rules'], final_per_class['ts_rejected'], 'ok', label='Per-Class Thresholds')\n",
    "ax.plot(final_sv['ts_rules'], final_sv['ts_rejected'], 'ob', label='Single-Variable Threshold')\n",
    "\n",
    "ax.legend()\n",
    "ax.set_title('Pima Dataset, Testing')\n",
    "ax.set_xlabel('Number of rules')\n",
    "ax.set_ylabel('Number of rejected patterns')"
   ]
  },
  {
   "cell_type": "code",
   "execution_count": 179,
   "metadata": {},
   "outputs": [
    {
     "data": {
      "text/plain": [
       "Text(0, 0.5, 'Error rate')"
      ]
     },
     "execution_count": 179,
     "metadata": {},
     "output_type": "execute_result"
    },
    {
     "data": {
      "image/png": "[encoded data removed]",
      "text/plain": [
       "<Figure size 576x576 with 1 Axes>"
      ]
     },
     "metadata": {
      "needs_background": "light"
     },
     "output_type": "display_data"
    }
   ],
   "source": [
    "fig, ax = plt.subplots(figsize=(8,8))\n",
    "ax.plot(final_per_class['tr_rules'], final_per_class['tr_error'], 'ok', label='Per-Class Thresholds')\n",
    "ax.plot(final_sv['tr_rules'], final_sv['tr_error'], 'ob', label='Single-Variable Threshold')\n",
    "\n",
    "ax.legend()\n",
    "ax.set_title('Pima Dataset, Training')\n",
    "ax.set_xlabel('Number of rules')\n",
    "ax.set_ylabel('Error rate')"
   ]
  },
  {
   "cell_type": "code",
   "execution_count": 181,
   "metadata": {},
   "outputs": [
    {
     "data": {
      "text/plain": [
       "Text(0, 0.5, 'Error rate')"
      ]
     },
     "execution_count": 181,
     "metadata": {},
     "output_type": "execute_result"
    },
    {
     "data": {
      "image/png": "[encoded data removed]",
      "text/plain": [
       "<Figure size 576x576 with 1 Axes>"
      ]
     },
     "metadata": {
      "needs_background": "light"
     },
     "output_type": "display_data"
    }
   ],
   "source": [
    "fig, ax = plt.subplots(figsize=(8,8))\n",
    "ax.plot(final_per_class['ts_rules'], final_per_class['ts_error'], 'ok', label='Per-Class Thresholds')\n",
    "ax.plot(final_sv['ts_rules'], final_sv['ts_error'], 'ob', label='Single-Variable Threshold')\n",
    "\n",
    "ax.legend()\n",
    "ax.set_title('Pima Dataset, Testing')\n",
    "ax.set_xlabel('Number of rules')\n",
    "ax.set_ylabel('Error rate')"
   ]
  },
  {
   "cell_type": "code",
   "execution_count": null,
   "metadata": {},
   "outputs": [],
   "source": []
  }
 ],
 "metadata": {
  "kernelspec": {
   "display_name": "Python 3",
   "language": "python",
   "name": "python3"
  },
  "language_info": {
   "codemirror_mode": {
    "name": "ipython",
    "version": 3
   },
   "file_extension": ".py",
   "mimetype": "text/x-python",
   "name": "python",
   "nbconvert_exporter": "python",
   "pygments_lexer": "ipython3",
   "version": "3.8.5"
  }
 },
 "nbformat": 4,
 "nbformat_minor": 4
}
